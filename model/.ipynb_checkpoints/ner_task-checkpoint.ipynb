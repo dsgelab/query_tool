{
 "cells": [
  {
   "cell_type": "code",
   "execution_count": 70,
   "id": "d06d1629-c380-4764-9805-4f81d1921c89",
   "metadata": {},
   "outputs": [],
   "source": [
    "# import os\n",
    "# import re\n",
    "# import csv\n",
    "# import itertools\n",
    "\n",
    "import nltk\n",
    "# import pandas as pd\n",
    "# import numpy as np\n",
    "# import seaborn as sns\n",
    "# import matplotlib.pyplot as plt\n",
    "# from tqdm import tqdm, trange\n",
    "from collections import defaultdict, OrderedDict\n",
    "\n",
    "import torch\n",
    "import torch.nn as nn\n",
    "# from torch.utils.data import TensorDataset, DataLoader\n",
    "# from torch.utils.data import RandomSampler, SequentialSampler\n",
    "from transformers import BertModel, BertTokenizer, BertConfig\n",
    "# from transformers import BertForTokenClassification, AdamW\n",
    "# from transformers import get_linear_schedule_with_warmup\n",
    "\n",
    "# import tensorflow as tf\n",
    "from tensorflow.keras.preprocessing.sequence import pad_sequences\n",
    "# from sklearn.model_selection import train_test_split"
   ]
  },
  {
   "cell_type": "code",
   "execution_count": 38,
   "id": "bf343702-ca7e-4066-b4b6-cb15871b12ce",
   "metadata": {},
   "outputs": [],
   "source": [
    "tokenizer = BertTokenizer(vocab_file='/Users/feiwang/Documents/Projects/biobert/biobert_v1.1_pubmed/vocab.txt', do_lower_case=False)\n",
    "\n",
    "# check if GPU available\n",
    "device = torch.device(\"cuda\" if torch.cuda.is_available() else \"cpu\")"
   ]
  },
  {
   "cell_type": "code",
   "execution_count": 11,
   "id": "07e7b413-9092-4e8e-a243-d518e4717c90",
   "metadata": {},
   "outputs": [],
   "source": [
    "max_seq_length = 64"
   ]
  },
  {
   "cell_type": "code",
   "execution_count": 1,
   "id": "d4fface2-a04f-426c-b7f0-444c0b31dcf5",
   "metadata": {},
   "outputs": [],
   "source": [
    "test = [{'guid': 'test-0',\n",
    "  'text': 'Clustering of missense mutations in the ataxia - telangiectasia gene in a sporadic T - cell leukaemia .',\n",
    "  'label': 'O O O O O O B I I O O O B I I I I O'},\n",
    " {'guid': 'test-1',\n",
    "  'text': 'Two of seventeen mutated T - PLL samples had a previously reported A - T allele .',\n",
    "  'label': 'O O O O B I I O O O O O B I I O O'},\n",
    " {'guid': 'test-2',\n",
    "  'text': 'In contrast , no mutations were detected in the p53 gene , suggesting that this tumour suppressor is not frequently altered in this leukaemia .',\n",
    "  'label': 'O O O O O O O O O O O O O O O B O O O O O O O B O'},\n",
    " {'guid': 'test-3',\n",
    "  'text': 'Occasional missense mutations in ATM were also found in tumour DNA from patients with B - cell non - Hodgkins lymphomas ( B - NHL ) and a B - NHL cell line .',\n",
    "  'label': 'O O O O O O O O O B O O O O B I I I I I I O B I I O O O B I I O O O'},\n",
    " {'guid': 'test-4',\n",
    "  'text': 'Constitutional RB1 - gene mutations in patients with isolated unilateral retinoblastoma .',\n",
    "  'label': 'O O O O O O O O O B I O'},\n",
    " {'guid': 'test-5',\n",
    "  'text': 'In most patients with isolated unilateral retinoblastoma , tumor development is initiated by somatic inactivation of both alleles of the RB1 gene .',\n",
    "  'label': 'O O O O O B I O B O O O O O O O O O O O O O O'}]"
   ]
  },
  {
   "cell_type": "code",
   "execution_count": 2,
   "id": "61961d24-6a02-4a66-a988-a3be8a53c9da",
   "metadata": {},
   "outputs": [],
   "source": [
    "label_list = [\"[PAD]\", \"B\", \"I\", \"O\", \"X\", \"[CLS]\", \"[SEP]\"] "
   ]
  },
  {
   "cell_type": "code",
   "execution_count": 137,
   "id": "441c51e6-7d6c-4dd9-98b5-ee9785283772",
   "metadata": {},
   "outputs": [],
   "source": [
    "label_id_dict = {t: i for i,t in enumerate(label_list)}\n",
    "id_label_dict = {i: t for i,t in enumerate(label_list)}"
   ]
  },
  {
   "cell_type": "code",
   "execution_count": 68,
   "id": "51bde2cd-2dfb-448b-a02a-018dbdf05871",
   "metadata": {},
   "outputs": [],
   "source": [
    "text = 'Clustering of missense mutations in the ataxia-telangiectasia gene in a sporadic T-cell leukaemia.'"
   ]
  },
  {
   "cell_type": "code",
   "execution_count": 14,
   "id": "f6a1f1d5-7855-470c-a292-151896f70f09",
   "metadata": {},
   "outputs": [],
   "source": [
    "texts = [text]"
   ]
  },
  {
   "cell_type": "code",
   "execution_count": 65,
   "id": "0bb41223-b59e-4622-a774-e76a063498cd",
   "metadata": {},
   "outputs": [],
   "source": [
    "def text_to_tokens(sentence):\n",
    "    # convert a question to a list of words\n",
    "    word_list = nltk.word_tokenize(sentence)\n",
    "\n",
    "    # convert a list of words to a (longer) list of tokens defined by vocab_file\n",
    "    tokens = []\n",
    "    for word in word_list:\n",
    "        tokenized_word = tokenizer.tokenize(word)   \n",
    "        tokens.extend(tokenized_word)\n",
    "\n",
    "    # drop if token is longer than max_seq_length\n",
    "    if len(tokens) >= max_seq_length - 1:\n",
    "        tokens = tokens[0:(max_seq_length - 2)]\n",
    "\n",
    "    return tokens"
   ]
  },
  {
   "cell_type": "code",
   "execution_count": 115,
   "id": "f5bacbfa-54ce-46d5-99bf-8d7e6239c6df",
   "metadata": {},
   "outputs": [],
   "source": [
    "def process_sentences(sentences):\n",
    "    list_of_token_lists = [text_to_tokens(sentence) for sentence in sentences]\n",
    "    input_ids = pad_sequences([tokenizer.convert_tokens_to_ids(token_list) for token_list in list_of_token_lists],\n",
    "                              maxlen=max_seq_length, dtype=\"long\", value=0.0,\n",
    "                              truncating=\"post\", padding=\"post\")\n",
    "    # attention masks make explicit reference to which tokens are actual words vs padded words\n",
    "    # e.g. [1.0, 1.0, 1.0, 1.0, 1.0, 1.0, 1.0, 1.0, 1.0, 0.0, 0.0, 0.0, 0.0, 0.0, 0.0] a list of a 10-word sentence and 5 pads\n",
    "    attention_masks = [[float(i != 0.0) for i in ii] for ii in input_ids]\n",
    "    tensor_inputs = torch.tensor(input_ids)\n",
    "    tensor_masks = torch.tensor(attention_masks)\n",
    "    return tensor_inputs, tensor_masks"
   ]
  },
  {
   "cell_type": "code",
   "execution_count": 58,
   "id": "f32df18a-edf2-4544-ac45-70f33ed25b20",
   "metadata": {},
   "outputs": [],
   "source": [
    "config = BertConfig.from_json_file('biobert_v1.1_pubmed/config.json')\n",
    "\n",
    "# load the pretained biobert model\n",
    "tmp_d = torch.load('biobert_v1.1_pubmed/pytorch_model.bin', map_location=device)\n",
    "state_dict = OrderedDict()\n",
    "\n",
    "for i in list(tmp_d.keys())[:199]:\n",
    "    x = i\n",
    "    if i.find('bert') > -1:\n",
    "        x = '.'.join(i.split('.')[1:])\n",
    "    state_dict[x] = tmp_d[i]"
   ]
  },
  {
   "cell_type": "code",
   "execution_count": 125,
   "id": "bb2fcf95-7e9f-4db3-bc66-94dba22a65f2",
   "metadata": {},
   "outputs": [],
   "source": [
    "class BioBertNER(nn.Module):\n",
    "\n",
    "    def __init__(self, label_num, config, state_dict):\n",
    "        super().__init__()\n",
    "        self.bert = BertModel(config)\n",
    "        self.bert.load_state_dict(state_dict, strict=False)\n",
    "        self.dropout = nn.Dropout(p=0.3)\n",
    "        self.linear_output = nn.Linear(self.bert.config.hidden_size, label_num)\n",
    "        self.softmax = nn.Softmax(dim=1)\n",
    "\n",
    "    def forward(self, input_ids, attention_mask):\n",
    "        outputs = self.bert(input_ids=input_ids, attention_mask=attention_mask)\n",
    "        encoded_layer = outputs[0]#[-1] # torch.Size([1, max_len, hidden_weights]) -> torch.Size([max_len, hidden_weights])\n",
    "#         pool_layer = outputs[1]\n",
    "        output = self.dropout(encoded_layer)\n",
    "        output = self.linear_output(output)\n",
    "        return output.argmax(-1)"
   ]
  },
  {
   "cell_type": "code",
   "execution_count": 126,
   "id": "a0f5eb78-a071-47d4-b0ad-86459f8a87e1",
   "metadata": {},
   "outputs": [],
   "source": [
    "model = BioBertNER(len(label_list), config, state_dict)"
   ]
  },
  {
   "cell_type": "code",
   "execution_count": 116,
   "id": "bae64945-ad52-40ef-81a4-a7c7dc1a92b7",
   "metadata": {},
   "outputs": [],
   "source": [
    "input_ids, attention_masks = process_sentences([text])"
   ]
  },
  {
   "cell_type": "code",
   "execution_count": 84,
   "id": "b065decd-3281-4b3b-8931-0c1ccb32fb11",
   "metadata": {},
   "outputs": [
    {
     "data": {
      "text/plain": [
       "tensor([[  140, 23225,  1158,  1104,  5529, 22615, 17157,  1107,  1103,  1120,\n",
       "          7897,  1465,   118, 21359, 19514,  1663,  5822, 17506,  1161,  5565,\n",
       "          1107,   170,   188, 27695,   157,   118,  2765,  5837, 12658, 20504,\n",
       "           119,     0,     0,     0,     0,     0,     0,     0,     0,     0,\n",
       "             0,     0,     0,     0,     0,     0,     0,     0,     0,     0,\n",
       "             0,     0,     0,     0,     0,     0,     0,     0,     0,     0,\n",
       "             0,     0,     0,     0]])"
      ]
     },
     "execution_count": 84,
     "metadata": {},
     "output_type": "execute_result"
    }
   ],
   "source": [
    "input_ids"
   ]
  },
  {
   "cell_type": "code",
   "execution_count": 94,
   "id": "3bd9a660-92ef-4223-a1fb-17eb8c27911c",
   "metadata": {
    "tags": []
   },
   "outputs": [],
   "source": [
    "encoded_layer, pool_layer = bert(input_ids=input_ids, attention_mask=attention_masks)"
   ]
  },
  {
   "cell_type": "code",
   "execution_count": 97,
   "id": "1d4c5f62-afac-414e-bf30-522af3d70aa0",
   "metadata": {},
   "outputs": [],
   "source": [
    "output = bert(input_ids=input_ids, attention_mask=attention_masks)"
   ]
  },
  {
   "cell_type": "code",
   "execution_count": 108,
   "id": "3cff5248-bd40-41b6-b60a-4ab532df6ca3",
   "metadata": {},
   "outputs": [
    {
     "data": {
      "text/plain": [
       "torch.Size([1, 64, 768])"
      ]
     },
     "execution_count": 108,
     "metadata": {},
     "output_type": "execute_result"
    }
   ],
   "source": [
    "output[0].shape"
   ]
  },
  {
   "cell_type": "code",
   "execution_count": 122,
   "id": "cb630a58-9ee1-4592-a3da-3e0dbf71799d",
   "metadata": {},
   "outputs": [],
   "source": [
    "# output = dropout(output[0])\n",
    "linear_output = nn.Linear(bert.config.hidden_size, label_num)\n",
    "output = linear_output(output)"
   ]
  },
  {
   "cell_type": "code",
   "execution_count": 123,
   "id": "60ff3e27-0344-4663-862b-445867431774",
   "metadata": {},
   "outputs": [
    {
     "data": {
      "text/plain": [
       "torch.Size([1, 64, 7])"
      ]
     },
     "execution_count": 123,
     "metadata": {},
     "output_type": "execute_result"
    }
   ],
   "source": [
    "output.shape"
   ]
  },
  {
   "cell_type": "code",
   "execution_count": 128,
   "id": "90d079ee-8711-4a09-9a33-ed2bdf0d99bc",
   "metadata": {},
   "outputs": [
    {
     "data": {
      "text/plain": [
       "torch.Size([1, 64])"
      ]
     },
     "execution_count": 128,
     "metadata": {},
     "output_type": "execute_result"
    }
   ],
   "source": [
    "output.argmax(-1).shape"
   ]
  },
  {
   "cell_type": "code",
   "execution_count": 136,
   "id": "17631f94-ab26-43d9-ad0b-ced55822c08d",
   "metadata": {},
   "outputs": [
    {
     "data": {
      "text/plain": [
       "{'[PAD]': 0, 'B': 1, 'I': 2, 'O': 3, 'X': 4, '[CLS]': 5, '[SEP]': 6}"
      ]
     },
     "execution_count": 136,
     "metadata": {},
     "output_type": "execute_result"
    }
   ],
   "source": [
    "tag_id_dict"
   ]
  },
  {
   "cell_type": "code",
   "execution_count": 146,
   "id": "207fa024-958b-4ac0-9b14-d5588501e79e",
   "metadata": {},
   "outputs": [],
   "source": [
    "ids = input_ids.view(-1,input_ids.size()[-1])\n",
    "masks = attention_masks.view(-1,attention_masks.size()[-1])\n",
    "with torch.no_grad():\n",
    "    y_hat = model(ids, masks)\n",
    "output_ids= y_hat.to('cpu').numpy()\n",
    "tokens = tokenizer.convert_ids_to_tokens(ids.to('cpu').numpy()[0])\n",
    "tokens = [i for i in tokens if i != '[PAD]']\n",
    "output_ids = output_ids[0][:len(tokens)]\n",
    "new_tokens, new_labels = [], []\n",
    "for token, label_idx in zip(tokens, output_ids):\n",
    "    if token.startswith(\"##\"):\n",
    "        new_tokens[-1] = new_tokens[-1] + token[2:]\n",
    "    else:\n",
    "        new_labels.append(id_label_dict[label_idx])\n",
    "        new_tokens.append(token)"
   ]
  },
  {
   "cell_type": "code",
   "execution_count": 147,
   "id": "6e3a3a93-82d8-4cfa-bdca-e109cae94ebe",
   "metadata": {},
   "outputs": [
    {
     "name": "stdout",
     "output_type": "stream",
     "text": [
      "Clustering\tB\n",
      "of\t[SEP]\n",
      "missense\t[SEP]\n",
      "mutations\tB\n",
      "in\t[SEP]\n",
      "the\t[SEP]\n",
      "ataxia\t[SEP]\n",
      "-\t[SEP]\n",
      "telangiectasia\tI\n",
      "gene\t[PAD]\n",
      "in\tB\n",
      "a\tB\n",
      "sporadic\t[SEP]\n",
      "T\t[PAD]\n",
      "-\t[PAD]\n",
      "cell\tB\n",
      "leukaemia\t[PAD]\n",
      ".\t[PAD]\n"
     ]
    }
   ],
   "source": [
    "for t,l in zip(new_tokens, new_labels):\n",
    "    print(\"{}\\t{}\".format(t, l))"
   ]
  },
  {
   "cell_type": "code",
   "execution_count": null,
   "id": "a4fe0409-597d-4b91-867f-912d11e19a6e",
   "metadata": {},
   "outputs": [],
   "source": [
    "new_labels = []"
   ]
  },
  {
   "cell_type": "code",
   "execution_count": 75,
   "id": "159e334d-8215-433f-8630-b29018e9d287",
   "metadata": {},
   "outputs": [],
   "source": [
    "def token_long_to_short(tokens_vocab):\n",
    "    tokens_word_only = []\n",
    "    for token in tokens_vocab:\n",
    "        if token.startswith(\"##\"):\n",
    "            tokens_word_only[-1] = tokens_word_only[-1] + token[2:]\n",
    "        else:\n",
    "\n",
    "            tokens_word_only.append(token)\n",
    "    return tokens_word_only"
   ]
  },
  {
   "cell_type": "code",
   "execution_count": 78,
   "id": "3313cc7f-1cfd-44f1-92b9-543f3c2d7381",
   "metadata": {},
   "outputs": [
    {
     "data": {
      "text/plain": [
       "[['Clustering',\n",
       "  'of',\n",
       "  'missense',\n",
       "  'mutations',\n",
       "  'in',\n",
       "  'the',\n",
       "  'ataxia',\n",
       "  '-',\n",
       "  'telangiectasia',\n",
       "  'gene',\n",
       "  'in',\n",
       "  'a',\n",
       "  'sporadic',\n",
       "  'T',\n",
       "  '-',\n",
       "  'cell',\n",
       "  'leukaemia',\n",
       "  '.']]"
      ]
     },
     "execution_count": 78,
     "metadata": {},
     "output_type": "execute_result"
    }
   ],
   "source": [
    "[token_long_to_short(i) for i in tokens]"
   ]
  },
  {
   "cell_type": "code",
   "execution_count": null,
   "id": "f3b0d22e-5014-49f1-98ef-e5cbcb284896",
   "metadata": {},
   "outputs": [],
   "source": []
  }
 ],
 "metadata": {
  "kernelspec": {
   "display_name": "Python 3",
   "language": "python",
   "name": "python3"
  },
  "language_info": {
   "codemirror_mode": {
    "name": "ipython",
    "version": 3
   },
   "file_extension": ".py",
   "mimetype": "text/x-python",
   "name": "python",
   "nbconvert_exporter": "python",
   "pygments_lexer": "ipython3",
   "version": "3.7.9"
  }
 },
 "nbformat": 4,
 "nbformat_minor": 5
}
