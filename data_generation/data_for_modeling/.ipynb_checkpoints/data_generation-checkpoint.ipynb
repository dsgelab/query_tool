{
 "cells": [
  {
   "cell_type": "code",
   "execution_count": 158,
   "id": "8812cac1-07f6-4da6-a556-0b9212b3648c",
   "metadata": {},
   "outputs": [],
   "source": [
    "import json\n",
    "import random\n",
    "import numpy as np\n",
    "import pandas as pd\n",
    "import pickle\n",
    "import tqdm\n",
    "import re\n",
    "import os\n",
    "import datetime\n",
    "\n",
    "content_path = '/Users/feiwang/Documents/Projects/query_tool_contents'"
   ]
  },
  {
   "cell_type": "markdown",
   "id": "f333cd42-2176-4980-9a81-01848ca62447",
   "metadata": {},
   "source": [
    "### Data source 1: FinnGen endpoints"
   ]
  },
  {
   "cell_type": "code",
   "execution_count": 2,
   "id": "87b8db6d-8368-4ac5-b64f-19fcea5bf10d",
   "metadata": {},
   "outputs": [],
   "source": [
    "with open('/Users/feiwang/Documents/Data/endpoint_list.json') as f:\n",
    "    endpoint_list = json.load(f)"
   ]
  },
  {
   "cell_type": "code",
   "execution_count": 4,
   "id": "4bc8f755-beac-49bb-ae2e-244d4f3a6d4b",
   "metadata": {},
   "outputs": [],
   "source": [
    "endpoint_list = [endpoint.lower() for endpoint in set([i[0] for i in endpoint_list] + [i[1] for i in endpoint_list])]\n",
    "endpoint_list = [re.sub('\\s{0,1}\\(.+\\)\\s{0,1}',' ',i) for i in endpoint_list] # remove all the (xxx)\n",
    "endpoint_list = [re.sub('benign neoplasm: ','benign neoplasm of ',i) for i in endpoint_list]\n",
    "endpoint_list = [re.sub('\\s{0,1}&\\s{0,1}',' and ',i) for i in endpoint_list]\n",
    "endpoint_list = [re.sub('\\s{0,1}/\\s{0,1}',' or ',i) for i in endpoint_list]\n",
    "endpoint_list = [re.sub('\\s{0,1}\\[.+\\]\\s{0,1}',' ',i).strip() for i in endpoint_list] # remove all the [xxx]. Instead, add xxx as a new disease?\n",
    "endpoint_list = list(set(endpoint_list)) # 2904 -> 2862\n",
    "endpoint_list = [i for i in endpoint_list if len(i.split(' ')) <= 12] # 2862 -> 2814\n",
    "\n",
    "diseases_valid = endpoint_list[:len(endpoint_list)//10]\n",
    "diseases_train = endpoint_list[len(endpoint_list)//10:]"
   ]
  },
  {
   "cell_type": "markdown",
   "id": "46dbd057-2548-4d69-8d16-fcde444c56c0",
   "metadata": {},
   "source": [
    "### Data source 2: Phenocodes"
   ]
  },
  {
   "cell_type": "code",
   "execution_count": 11,
   "id": "1cadd0ca-5ec2-4550-a388-e09e05a86c4d",
   "metadata": {
    "tags": []
   },
   "outputs": [],
   "source": [
    "endpoint_list = pd.read_csv('/Users/feiwang/Documents/Materials/query tool/phecode_definitions1.2.csv').phenotype.to_list()\n",
    "endpoint_list = [i.lower() for i in endpoint_list] # 1866\n",
    "diseases_valid = endpoint_list[:len(endpoint_list)//10]\n",
    "diseases_train = endpoint_list[len(endpoint_list)//10:]"
   ]
  },
  {
   "cell_type": "markdown",
   "id": "4ef78c3e-f3a3-49e1-9929-021cfd940d62",
   "metadata": {},
   "source": [
    "### Data source 4: Finnish version ICD10"
   ]
  },
  {
   "cell_type": "code",
   "execution_count": 4,
   "id": "4a1c7af5-d4df-4a40-ab08-388caa104880",
   "metadata": {},
   "outputs": [
    {
     "name": "stderr",
     "output_type": "stream",
     "text": [
      "/Library/Frameworks/Python.framework/Versions/3.7/lib/python3.7/site-packages/openpyxl/styles/stylesheet.py:221: UserWarning: Workbook contains no default style, apply openpyxl's default\n",
      "  warn(\"Workbook contains no default style, apply openpyxl's default\")\n"
     ]
    }
   ],
   "source": [
    "onto = pd.read_excel('/Users/feiwang/Documents/Data/icd10_tautiluokitus_thl_08012020.xls',sheet_name='Sheet0', engine='openpyxl')\n",
    "onto = [i[0].lower()+i[1:] for i in set(onto['A:Long_name'].dropna().tolist())] # 11608\n",
    "diseases_valid = onto[:len(onto)//10]\n",
    "diseases_train = onto[len(onto)//10:]"
   ]
  },
  {
   "cell_type": "code",
   "execution_count": 8,
   "id": "f3677547-01dd-4890-8277-0437ff52a97d",
   "metadata": {},
   "outputs": [],
   "source": [
    "pickle.dump(onto, open('onto.pickle', \"wb\" ))"
   ]
  },
  {
   "cell_type": "markdown",
   "id": "5dec5f37-127a-40b4-a975-5a7e837f811c",
   "metadata": {},
   "source": [
    "## Define tags for NER"
   ]
  },
  {
   "cell_type": "code",
   "execution_count": 1,
   "id": "e0a50364-bd50-46c9-877a-674b294a235b",
   "metadata": {},
   "outputs": [],
   "source": [
    "tag_map = {'B': 1, 'I': 2, 'O': 3, 'X': 4}\n",
    "\n",
    "# tag_map = {\n",
    "#     'o': 0,\n",
    "#     'year': 1,\n",
    "#     'year_num': 2,\n",
    "#     'year_num1': 3,\n",
    "#     'year_num2': 4,\n",
    "#     'age': 5,\n",
    "#     'age_num': 6,\n",
    "#     'age_num1': 7,\n",
    "#     'age_num2': 8,\n",
    "#     'sex = 1': 9,\n",
    "#     'sex = 2': 10,\n",
    "#     'endpoint': 11\n",
    "# }"
   ]
  },
  {
   "cell_type": "markdown",
   "id": "3a9a21f9-945c-48c2-b488-71451a297193",
   "metadata": {},
   "source": [
    "## Setting up the conditions\n",
    "### Sex"
   ]
  },
  {
   "cell_type": "code",
   "execution_count": 144,
   "id": "4a25e7be-e102-4f22-8fe7-9194f281d574",
   "metadata": {},
   "outputs": [],
   "source": [
    "# sex options\n",
    "# general - general questions; specific - questions for specific persons\n",
    "# s - singular; p - plural; m - male; f - female\n",
    "sex_general = {\n",
    "    '': ['people','individuals','patients', 'kids', 'children', 'seniors', 'senior people', 'young people', 'adults', 'adolescents', 'teenagers'],\n",
    "    'sex = 1': ['males', 'men', 'boys', 'old males', 'old men', 'young males', 'young men'],\n",
    "    'sex = 2': ['females', 'women', 'girls', 'old females', 'old women', 'young females', 'young women']\n",
    "} \n",
    "\n",
    "sex_specific = {\n",
    "    '': ['an individual','a patient', 'a kid', 'a child', 'a senior', 'a person', 'my friend'],\n",
    "    'sex = 1': ['a male', 'a man', 'a boy', 'my son', 'my husband', 'my father', 'my dad', 'my daddy', 'my grandpa', 'my grandfather', 'my male friend'],\n",
    "    'sex = 2': ['a female', 'a woman', 'a girl', 'my daughter', 'my wife', 'my mother', 'my mom', 'my mommy', 'my grandma', 'my grandmother', 'my female friend']\n",
    "}\n",
    "\n",
    "\n",
    "def sex(specific_bool=False):\n",
    "    '''\n",
    "    general_specific_bool: boolean(0-general, 1-specific)\n",
    "    return: string(one from sex options), list([], ['sex = 1'], ['sex = 2']), list(0,9,10)\n",
    "    '''\n",
    "    query = random.choice(list(sex_general.keys()))\n",
    "    if specific_bool:\n",
    "        question = random.choice(sex_specific[query])\n",
    "    else:\n",
    "        question = random.choice(sex_general[query])\n",
    "    word_len = len(question.split(' '))\n",
    "    query = [query] if query != '' else []\n",
    "    return question, query"
   ]
  },
  {
   "cell_type": "code",
   "execution_count": 145,
   "id": "12743e9d-b411-46b7-bd4c-be1072873604",
   "metadata": {},
   "outputs": [
    {
     "data": {
      "text/plain": [
       "('seniors', [])"
      ]
     },
     "execution_count": 145,
     "metadata": {},
     "output_type": "execute_result"
    }
   ],
   "source": [
    "sex()"
   ]
  },
  {
   "cell_type": "markdown",
   "id": "c3bfdc6c-fae5-438e-9850-86b1a45ac345",
   "metadata": {},
   "source": [
    "### Year"
   ]
  },
  {
   "cell_type": "code",
   "execution_count": 260,
   "id": "c0aa767b-25eb-4ad3-91ec-fea5052a08b7",
   "metadata": {},
   "outputs": [],
   "source": [
    "conj_year = {\n",
    "    'year < ': ['before num','by num','ending in num'],\n",
    "    'year > ': ['after num','since num','starting from num','starting in num', 'from num to now', \n",
    "                'in the last delta years', 'in the past delta years', 'in the recent delta years'],\n",
    "    'year = ': ['during num','in num']\n",
    "}\n",
    "conj_years = ['between num1 and num2','from num1 to num2','during num1 and num2',\n",
    "              'during a delta-year period starting in num1',\n",
    "              'during a delta-year period ending by num2',\n",
    "              'during a delta-year interval beginning num1 and ending num2']\n",
    "\n",
    "years = list(range(2000,2023))\n",
    "\n",
    "this_year = datetime.datetime.today().year\n",
    "\n",
    "word_year = {'last year':['year = '+str(this_year-1)], 'a year ago':['year = '+str(this_year-1)], 'this year':['year = '+str(this_year)]}\n",
    "word_years = ['delta years ago', 'delta years earlier']\n",
    "\n",
    "def year():\n",
    "    '''\n",
    "    return string, list, list(1,2,3,4)\n",
    "    '''\n",
    "    ran_num = random.random()\n",
    "    if ran_num < 0.3:\n",
    "        ran_num1 = random.random()\n",
    "        if ran_num < 0.5:\n",
    "            question = random.choice(list(word_year.keys()))\n",
    "            query = word_year[question]\n",
    "        else:\n",
    "            question = random.choice(word_years)\n",
    "            num = random.choice(years)\n",
    "            delta = this_year - num\n",
    "            question = question.replace('delta', str(delta))\n",
    "            query = ['year = '+str(num)]\n",
    "    else:\n",
    "        conj_type = random.choice(['', 'one point', 'two points'])\n",
    "        if conj_type == 'one point':\n",
    "            condition = random.choice(list(conj_year.keys()))\n",
    "            conj = random.choice(conj_year[condition])\n",
    "            num = random.choice(years)\n",
    "            query = [condition+str(num)]\n",
    "            delta = this_year - num\n",
    "            question = conj.replace('num', str(num)).replace('delta', str(delta))\n",
    "        elif conj_type == 'two points':\n",
    "            num1 = random.choice(years)\n",
    "            try:\n",
    "                num2 = random.choice(years[years.index(num1)+1:])\n",
    "            except IndexError: #Cannot choose from an empty sequence\n",
    "                num2 = years[-1]+1 # in this case num1 is the biggest number in years list\n",
    "            delta = num2 - num1\n",
    "            query = ['year between '+str(num1)+' and '+str(num2)]\n",
    "            conj = random.choice(conj_years)\n",
    "            question = conj.replace('num1', str(num1)).replace('num2', str(num2)).replace('delta', str(delta))\n",
    "        else:\n",
    "            question, query = '',[]\n",
    "        word_len = len(question.split(' '))\n",
    "    return question, query"
   ]
  },
  {
   "cell_type": "code",
   "execution_count": 261,
   "id": "e3a3edf3-77e0-4768-a8f3-952612170449",
   "metadata": {},
   "outputs": [
    {
     "name": "stdout",
     "output_type": "stream",
     "text": [
      "('ending in 2003', ['year < 2003'])\n",
      "('a year ago', ['year = 2021'])\n",
      "('in 2015', ['year = 2015'])\n",
      "('this year', ['year = 2022'])\n",
      "('ending in 2009', ['year < 2009'])\n"
     ]
    }
   ],
   "source": [
    "for i in range(5):\n",
    "    print(year())"
   ]
  },
  {
   "cell_type": "markdown",
   "id": "647d0d9b-e9cc-4d82-8c7c-80b27823cc59",
   "metadata": {},
   "source": [
    "### Age"
   ]
  },
  {
   "cell_type": "code",
   "execution_count": 244,
   "id": "0bff0e7f-512a-499d-8805-f711b22d7ef6",
   "metadata": {},
   "outputs": [],
   "source": [
    "conj_age = {\n",
    "    'age < ': ['below', 'under', 'less than', 'younger than'],\n",
    "    'age > ': ['above', 'over', 'more than', 'older than'],\n",
    "    'age = ': ['at', 'in']\n",
    "}\n",
    "conj_ages = ['between num1 and num2','from num1 to num2',\n",
    "            'between num1 years old and num2 years old','from num1 years old to num2 years old']\n",
    "ages = list(range(0,101))\n",
    "\n",
    "def age(special_one_point=False):\n",
    "    '''\n",
    "    return string, list\n",
    "    '''\n",
    "    if special_one_point:\n",
    "        num = random.choice(ages)\n",
    "        question = ' '+str(num)+'-year-old '\n",
    "        query = ['age = '+str(num)]\n",
    "        return question, query\n",
    "    conj_type = random.choice(['', 'one point', 'two points'])\n",
    "    if conj_type == 'one point':\n",
    "        condition = random.choice(list(conj_age.keys()))\n",
    "        conj = random.choice(conj_age[condition])\n",
    "        num = random.choice(ages)\n",
    "        query = [condition+str(num)]\n",
    "        question = conj+' '+str(num)+random.choice([' years old', ''])\n",
    "    elif conj_type == 'two points':\n",
    "        num1 = random.choice(ages)\n",
    "        try:\n",
    "            num2 = random.choice(ages[ages.index(num1)+1:])\n",
    "        except IndexError: #Cannot choose from an empty sequence\n",
    "            num2 = ages[-1]+1 # in this case num1 is the largest in ages list\n",
    "        query = ['year between '+str(num1)+' and '+str(num2)]\n",
    "        conj = random.choice(conj_ages)\n",
    "        question = conj.replace('num1', str(num1))\n",
    "        question = question.replace('num2', str(num2))\n",
    "    else:\n",
    "        question, query = '',[]\n",
    "    return question, query"
   ]
  },
  {
   "cell_type": "code",
   "execution_count": 139,
   "id": "73bf2561-5d78-4ef0-a2ea-b3d05b6dd9fd",
   "metadata": {},
   "outputs": [
    {
     "data": {
      "text/plain": [
       "('', [])"
      ]
     },
     "execution_count": 139,
     "metadata": {},
     "output_type": "execute_result"
    }
   ],
   "source": [
    "age()"
   ]
  },
  {
   "cell_type": "code",
   "execution_count": 232,
   "id": "c410e724-fb01-44c6-98de-107e329bbebd",
   "metadata": {},
   "outputs": [],
   "source": [
    "first = [\"Chelm\", \"Elm\", \"El\", \"Bur\", \"En\", \"Eg\", \"Pem\", \"Pen\", \"Edg\", \"Sud\", \"Sod\", \"Hors\", \"Dur\", \"Sun\", \"Nort\", \"Brad\", \"Farn\", \"Barn\", \"Dart\", \"Hart\", \"South\", \"Shaft\", \"Blan\", \"Rock\", \"Alf\", \"Wy\", \"Marl\", \"Staf\", \"Wet\", \"Cas\", \"Stain\", \"Whit\", \"Stap\", \"Brom\", \"Wych\", \"Watch\", \"Win\", \"Horn\", \"Mel\", \"Cook\", \"Hurst\", \"Ald\", \"Shriv\", \"Kings\", \"Clere\", \"Maiden\", \"Leather\", \"Brack\",\"Brain\", \"Walt\", \"Prest\", \"Wen\", \"Flit\", \"Ash\"]\n",
    "doubles = [\"Bass\", \"Chipp\", \"Sodd\", \"Sudd\", \"Ell\", \"Burr\", \"Egg\", \"Emm\", \"Hamm\", \"Hann\", \"Cann\", \"Camm\", \"Camb\", \"Sund\", \"Pend\", \"End\", \"Warr\", \"Worr\", \"Hamp\", \"Roth\", \"Both\", \"Sir\", \"Cir\", \"Redd\", \"Wolv\", \"Mill\", \"Kett\", \"Ribb\", \"Dribb\", \"Fald\", \"Skell\", \"Chedd\", \"Chill\", \"Tipp\", \"Full\", \"Todd\", \"Abb\", \"Booth\"]\n",
    "postdoubles = [\"ing\", \"en\", \"er\"]\n",
    "mid = [\"bas\", \"ber\", \"stan\", \"ring\", \"den\", \"-under-\", \" on \", \"en\", \"re\", \"rens\", \"comp\", \"mer\", \"sey\", \"mans\"]\n",
    "last = [\"ford\", \"stoke\", \"ley\", \"ney\",  \"don\", \"den\", \"ton\", \"bury\", \"well\", \"beck\", \"ham\", \"borough\", \"side\", \"wick\", \"hampton\", \"wich\", \"cester\", \"chester\", \"ling\", \"moor\", \"wood\", \"brook\", \"port\", \"wold\", \"mere\", \"castle\", \"hall\", \"bridge\", \"combe\", \"smith\", \"field\", \"ditch\", \"wang\", \"over\", \"worth\", \"by\", \"brough\", \"low\", \"grove\", \"avon\", \"sted\", \"bourne\", \"borne\", \"thorne\", \"lake\", \"shot\", \"bage\", \"head\", \"ey\", \"nell\", \"tree\", \"down\"]\n",
    "\n",
    "def places():\n",
    "    finished_name = \"\"\n",
    "    pd = 0\n",
    "    if(random.random()  > 0.4):\n",
    "        finished_name = finished_name + random.choice(doubles)\n",
    "        if(random.random()  > 0.6):\n",
    "            finished_name = finished_name + random.choice(postdoubles)\n",
    "            pd = 1\n",
    "        else:\n",
    "            finished_name = finished_name[0:len(finished_name) - 1]\n",
    "    else:\n",
    "        finished_name = finished_name + random.choice(first)\n",
    "\n",
    "    if(random.random()  > 0.5 and not pd):\n",
    "        if(finished_name.endswith(\"r\") or finished_name.endswith(\"b\")):\n",
    "            if(random.random()  > 0.4):\n",
    "                finished_name = finished_name + \"ble\"\n",
    "            else:\n",
    "                finished_name = finished_name + \"gle\"\n",
    "        elif(finished_name.endswith(\"n\") or finished_name.endswith(\"d\")):\n",
    "            finished_name = finished_name + \"dle\"\n",
    "        elif(finished_name.endswith(\"s\")):\n",
    "            finished_name = finished_name + \"tle\"\n",
    "\n",
    "    if(random.random()  > 0.7 and finished_name.endswith(\"le\")):\n",
    "        finished_name = finished_name + \"s\"\n",
    "\n",
    "    elif(random.random()  > 0.5):\n",
    "        if(finished_name.endswith(\"n\")):\n",
    "            if(random.random()  > 0.5):\n",
    "                finished_name = finished_name + \"s\"\n",
    "            else:\n",
    "                finished_name = finished_name + \"d\"\n",
    "        elif(finished_name.endswith(\"m\")):\n",
    "            finished_name = finished_name + \"s\"\n",
    "\n",
    "    if(random.random()  > 0.7):\n",
    "        finished_name = finished_name + random.choice(mid)\n",
    "    finished_name = finished_name + random.choice(last)\n",
    "\n",
    "    fix = finished_name.rpartition(' ')\n",
    "    if(fix[1] == ' '):\n",
    "        finished_name = fix[0] + ' ' + fix[2].capitalize()\n",
    "\n",
    "    fix = finished_name.rpartition('-')\n",
    "    if(fix[1] == '-'):\n",
    "        finished_name = fix[0] + '-' + fix[2].capitalize()\n",
    "\n",
    "    return finished_name"
   ]
  },
  {
   "cell_type": "code",
   "execution_count": 207,
   "id": "4c9a4b82-ab5a-4212-b651-d6c693dd5d8d",
   "metadata": {},
   "outputs": [
    {
     "data": {
      "text/plain": [
       "'Wychbrook'"
      ]
     },
     "execution_count": 207,
     "metadata": {},
     "output_type": "execute_result"
    }
   ],
   "source": [
    "places()"
   ]
  },
  {
   "cell_type": "code",
   "execution_count": 128,
   "id": "142bbe26-4a29-42de-9d08-453309ab981a",
   "metadata": {
    "jupyter": {
     "source_hidden": true
    },
    "tags": []
   },
   "outputs": [],
   "source": [
    "cut_yr = [0,1,5,15]\n",
    "\n",
    "def get_cut_yr():\n",
    "    '''\n",
    "    return string - after xx years follow-up, ['cut_year = xx']\n",
    "    '''\n",
    "    cut = random.choice(cut_yr)\n",
    "    if cut == 0:\n",
    "        return '', ['cut_year = 0']\n",
    "    elif cut == 1:\n",
    "        ans = 'after a year follow-up' if random.random() < 0.5 else 'after one year follow-up'\n",
    "        return ans, ['cut_year = 1']\n",
    "    else:\n",
    "        return 'after '+str(cut)+' years follow-up', ['cut_year = '+str(cut)]"
   ]
  },
  {
   "cell_type": "code",
   "execution_count": null,
   "id": "bfa43d0a-106c-49a5-8a74-e51a9f0d8549",
   "metadata": {},
   "outputs": [],
   "source": []
  },
  {
   "cell_type": "markdown",
   "id": "5f3bd37f-92ee-4d21-bd27-72049356973c",
   "metadata": {},
   "source": [
    "### Possible question formats\n",
    "#### Question 1\n",
    "    'How many women older than 70 have been diagnosed with flatulence?',\n",
    "    'How many women over the age of 70 got flatulence?',\n",
    "    'How many women over 70 years old suffer from flatulence?',\n",
    "     *'What proportion of females over 70 have flatulence?',\n",
    "\n",
    "     'count(*)-long_registry',\n",
    "     'age > 70, endpoint = flatulence, sex = female'],\n",
    "    \n",
    "    Question - input: How many individuals under 78 have been diagnosed with migraine before 2005?\\n\n",
    "    Answer - output: count; people, migraine, 1, 78, 2000, 2005\\n\\n\""
   ]
  },
  {
   "cell_type": "code",
   "execution_count": 241,
   "id": "b3d55b24-cbc0-470a-8d82-a2a3950babb6",
   "metadata": {},
   "outputs": [],
   "source": [
    "def sentence_clean(sentence):\n",
    "    sentence = re.sub(r'(^, )', '', sentence)\n",
    "    sentence = re.sub(r' ([.|?]$)', r'\\1', sentence)\n",
    "    sentence = re.sub(r'aged  (diagnosed)', r'\\1', sentence)\n",
    "    sentence = sentence.replace('  ', ' ')\n",
    "    return sentence"
   ]
  },
  {
   "cell_type": "code",
   "execution_count": 242,
   "id": "f692bb1e-35fa-4429-85b7-a3943de63160",
   "metadata": {},
   "outputs": [],
   "source": [
    "questions_1 = [\n",
    "    'What is the number of <sex> who are <age> diagnosed with <disease> <year>?',\n",
    "    \"What's the number of <sex> who are <age> diagnosed with <disease> <year>?\",\n",
    "    'What is the number of <sex> aged <age> diagnosed with <disease> <year>?',\n",
    "    \"What's the number of <sex> aged <age> diagnosed with <disease> <year>?\"\n",
    "    'What is the number of <sex> who have <disease> <age> <year>?',\n",
    "    \"What's the number of <sex> who have <disease> <age> <year>\",\n",
    "    'What is the number of <sex> diagnosed <disease> <age> <year>?',\n",
    "    \"What's the number of <sex> diagnosed <disease> <age> <year>\",\n",
    "    '<year>, what is the number of <sex> who have <disease> <age>?',\n",
    "    \"<year>, what's the number of <sex> who have <disease> <age>?\",\n",
    "    '<year>, what is the number of <sex> who are <age> diagnosed with <disease>?',\n",
    "    \"<year>, what's the number of <sex> who are <age> diagnosed with <disease>?\",\n",
    "    'How many <sex> <age> have been diagnosed with <disease> <year>?',\n",
    "    'How many <sex> <age> are diagnosed with <disease> <year>?',\n",
    "    '<year>, how many <sex> <age> have been diagnosed with <disease>?',\n",
    "    '<year>, how many <sex> <age> are diagnosed with <disease>?',\n",
    "    'How many <sex> <age> suffer from <disease> <year>?',\n",
    "    'How many <sex> diagnosed <disease> <age> <year>?',\n",
    "    'How many <sex> aged <age> diagnosed with <disease> <year>?',\n",
    "    '<year>, how many <sex> <age> suffer from <disease>?',\n",
    "    'Frequency of <sex> with <disease> <age> <year>.',\n",
    "    'In <sex> <age> , how many suffer from <disease> <year>?',\n",
    "    'Among <sex> <age>, how many suffer from <disease> <year>?',\n",
    "]\n",
    "\n",
    "def question1():\n",
    "    '''\n",
    "    return string(question), list(conditions), string(columns seperated by ',')\n",
    "    '''\n",
    "    sex_q, sex_a = sex()\n",
    "    age_q, age_a = age()\n",
    "    year_q, year_a = year()\n",
    "    q = random.choice(questions_1).replace('<sex>', sex_q).replace('<age>', age_q).replace('<year>', year_q)\n",
    "    q = sentence_clean(q)\n",
    "    a = sex_a+['endpoint IN (<disease>)']+age_a+year_a\n",
    "    return q.capitalize(), a, 'counts'"
   ]
  },
  {
   "cell_type": "code",
   "execution_count": 262,
   "id": "b843c0be-1a7a-44bc-ae50-5cd0b143396d",
   "metadata": {},
   "outputs": [
    {
     "name": "stdout",
     "output_type": "stream",
     "text": [
      "('Frequency of boys with <disease> over 4 years old between 2021 and 2022.', ['sex = 1', 'endpoint IN (<disease>)', 'age > 4', 'year between 2021 and 2022'], 'counts')\n",
      "('How many young males from 59 years old to 66 years old suffer from <disease>?', ['sex = 1', 'endpoint IN (<disease>)', 'year between 59 and 66'], 'counts')\n",
      "('Among males from 6 years old to 78 years old, how many suffer from <disease> after 2009?', ['sex = 1', 'endpoint IN (<disease>)', 'year between 6 and 78', 'year > 2009'], 'counts')\n",
      "('In 2009, how many young women are diagnosed with <disease>?', ['sex = 2', 'endpoint IN (<disease>)', 'year = 2009'], 'counts')\n",
      "('What is the number of males diagnosed <disease> more than 94 from 2001 to 2015?', ['sex = 1', 'endpoint IN (<disease>)', 'age > 94', 'year between 2001 and 2015'], 'counts')\n",
      "(\"What's the number of people who are at 63 diagnosed with <disease> this year?\", ['endpoint IN (<disease>)', 'age = 63', 'year = 2022'], 'counts')\n",
      "('This year, what is the number of old men who are at 37 diagnosed with <disease>?', ['sex = 1', 'endpoint IN (<disease>)', 'age = 37', 'year = 2022'], 'counts')\n",
      "('By 2003, what is the number of young men who are from 8 years old to 46 years old diagnosed with <disease>?', ['sex = 1', 'endpoint IN (<disease>)', 'year between 8 and 46', 'year < 2003'], 'counts')\n",
      "('What is the number of people diagnosed <disease> last year?', ['endpoint IN (<disease>)', 'year = 2021'], 'counts')\n",
      "('This year, how many old men in 65 have been diagnosed with <disease>?', ['sex = 1', 'endpoint IN (<disease>)', 'age = 65', 'year = 2022'], 'counts')\n",
      "('From 2016 to 2022, how many senior people less than 40 years old are diagnosed with <disease>?', ['endpoint IN (<disease>)', 'age < 40', 'year between 2016 and 2022'], 'counts')\n",
      "('In the past 3 years, how many kids suffer from <disease>?', ['endpoint IN (<disease>)', 'year > 2019'], 'counts')\n",
      "('Frequency of men with <disease> last year.', ['sex = 1', 'endpoint IN (<disease>)', 'year = 2021'], 'counts')\n",
      "('What is the number of men aged younger than 12 diagnosed with <disease> during 2021?', ['sex = 1', 'endpoint IN (<disease>)', 'age < 12', 'year = 2021'], 'counts')\n",
      "('How many men suffer from <disease>?', ['sex = 1', 'endpoint IN (<disease>)'], 'counts')\n",
      "('How many males younger than 20 years old suffer from <disease>?', ['sex = 1', 'endpoint IN (<disease>)', 'age < 20'], 'counts')\n",
      "(\"What's the number of old females diagnosed <disease> between 10 and 81 in 2010\", ['sex = 2', 'endpoint IN (<disease>)', 'year between 10 and 81', 'year = 2010'], 'counts')\n",
      "('How many young males diagnosed <disease> in 2011?', ['sex = 1', 'endpoint IN (<disease>)', 'year = 2011'], 'counts')\n",
      "('Frequency of girls with <disease> from 85 years old to 98 years old during 2019 and 2021.', ['sex = 2', 'endpoint IN (<disease>)', 'year between 85 and 98', 'year between 2019 and 2021'], 'counts')\n",
      "(\"Last year, what's the number of old men who have <disease> in 70 years old?\", ['sex = 1', 'endpoint IN (<disease>)', 'age = 70', 'year = 2021'], 'counts')\n",
      "('How many girls in 98 years old are diagnosed with <disease> by 2007?', ['sex = 2', 'endpoint IN (<disease>)', 'age = 98', 'year < 2007'], 'counts')\n",
      "('Last year, what is the number of adults who have <disease> from 62 to 84?', ['endpoint IN (<disease>)', 'year between 62 and 84', 'year = 2021'], 'counts')\n",
      "('How many young females are diagnosed with <disease> during 2001?', ['sex = 2', 'endpoint IN (<disease>)', 'year = 2001'], 'counts')\n",
      "('Last year, what is the number of young men who are diagnosed with <disease>?', ['sex = 1', 'endpoint IN (<disease>)', 'year = 2021'], 'counts')\n",
      "(\"What's the number of adults aged below 16 diagnosed with <disease> during a 5-year period ending by 2007?what is the number of adults who have <disease> below 16 during a 5-year period ending by 2007?\", ['endpoint IN (<disease>)', 'age < 16', 'year between 2002 and 2007'], 'counts')\n",
      "('What is the number of old men who have <disease> between 48 years old and 93 years old?', ['sex = 1', 'endpoint IN (<disease>)', 'year between 48 and 93'], 'counts')\n",
      "('From 2021 to now, how many young males under 58 suffer from <disease>?', ['sex = 1', 'endpoint IN (<disease>)', 'age < 58', 'year > 2021'], 'counts')\n",
      "('How many young females aged older than 67 diagnosed with <disease> during a 1-year period starting in 2016?', ['sex = 2', 'endpoint IN (<disease>)', 'age > 67', 'year between 2016 and 2017'], 'counts')\n",
      "('How many young men between 88 years old and 100 years old are diagnosed with <disease>?', ['sex = 1', 'endpoint IN (<disease>)', 'year between 88 and 100'], 'counts')\n",
      "('In the past 1 years, how many young females are diagnosed with <disease>?', ['sex = 2', 'endpoint IN (<disease>)', 'year > 2021'], 'counts')\n",
      "('During 2013, how many old women older than 31 are diagnosed with <disease>?', ['sex = 2', 'endpoint IN (<disease>)', 'age > 31', 'year = 2013'], 'counts')\n",
      "('How many boys suffer from <disease> this year?', ['sex = 1', 'endpoint IN (<disease>)', 'year = 2022'], 'counts')\n",
      "('Among males , how many suffer from <disease> during a 8-year period ending by 2010?', ['sex = 1', 'endpoint IN (<disease>)', 'year between 2002 and 2010'], 'counts')\n",
      "(\"What's the number of old females diagnosed with <disease> ?what is the number of old females who have <disease> ?\", ['sex = 2', 'endpoint IN (<disease>)'], 'counts')\n",
      "('How many seniors have been diagnosed with <disease> last year?', ['endpoint IN (<disease>)', 'year = 2021'], 'counts')\n",
      "('How many adults aged under 5 years old diagnosed with <disease> last year?', ['endpoint IN (<disease>)', 'age < 5', 'year = 2021'], 'counts')\n",
      "('What is the number of boys aged in 45 years old diagnosed with <disease> last year?', ['sex = 1', 'endpoint IN (<disease>)', 'age = 45', 'year = 2021'], 'counts')\n",
      "(\"What's the number of old women who have <disease> \", ['sex = 2', 'endpoint IN (<disease>)'], 'counts')\n",
      "(\"What's the number of old females who are diagnosed with <disease>?\", ['sex = 2', 'endpoint IN (<disease>)'], 'counts')\n",
      "('How many boys suffer from <disease> this year?', ['sex = 1', 'endpoint IN (<disease>)', 'year = 2022'], 'counts')\n",
      "(\"What's the number of young men diagnosed with <disease> ?what is the number of young men who have <disease> ?\", ['sex = 1', 'endpoint IN (<disease>)'], 'counts')\n",
      "(\"Last year, what's the number of seniors who are from 21 to 47 diagnosed with <disease>?\", ['endpoint IN (<disease>)', 'year between 21 and 47', 'year = 2021'], 'counts')\n",
      "('How many young females from 79 years old to 99 years old have been diagnosed with <disease>?', ['sex = 2', 'endpoint IN (<disease>)', 'year between 79 and 99'], 'counts')\n",
      "('How many individuals are diagnosed with <disease> this year?', ['endpoint IN (<disease>)', 'year = 2022'], 'counts')\n",
      "('How many old males over 51 have been diagnosed with <disease>?', ['sex = 1', 'endpoint IN (<disease>)', 'age > 51'], 'counts')\n",
      "('A year ago, what is the number of old men who have <disease> between 20 years old and 93 years old?', ['sex = 1', 'endpoint IN (<disease>)', 'year between 20 and 93', 'year = 2021'], 'counts')\n",
      "('What is the number of people diagnosed <disease> during 2006?', ['endpoint IN (<disease>)', 'year = 2006'], 'counts')\n",
      "(\"What's the number of young people who are between 60 years old and 70 years old diagnosed with <disease>?\", ['endpoint IN (<disease>)', 'year between 60 and 70'], 'counts')\n",
      "('How many young men diagnosed with <disease> during a 7-year period starting in 2008?', ['sex = 1', 'endpoint IN (<disease>)', 'year between 2008 and 2015'], 'counts')\n",
      "('What is the number of men diagnosed <disease> below 80 years old?', ['sex = 1', 'endpoint IN (<disease>)', 'age < 80'], 'counts')\n"
     ]
    }
   ],
   "source": [
    "for i in range(50):\n",
    "    print(question1())"
   ]
  },
  {
   "cell_type": "markdown",
   "id": "b8a5bc84-b64d-45d3-9f02-ca5c56a6267e",
   "metadata": {},
   "source": [
    "#### Question 2\n",
    "    Question - What is the mean age at the first event for migraine among individuals over 71 from 2013 to 2017?\\n\n",
    "    Answer - output: mean age; people, migraine, 71, 100, 2013, 2017\\n\\n\""
   ]
  },
  {
   "cell_type": "code",
   "execution_count": 239,
   "id": "673fbacf-a053-4389-b173-4103a96394cb",
   "metadata": {},
   "outputs": [],
   "source": [
    "questions_2 = [\n",
    "    'What is the <bar> age at the first event of <disease> <prep> <sex> <year>?',\n",
    "    \"What's the <bar> age at the first event of <disease> <prep> <sex> <year>?\",\n",
    "    '<year>, what is the <bar> age at the first event of <disease> <prep> <sex>?',\n",
    "    \"<year>, what's the <bar> age at the first event of <disease> <prep> <sex>?\",\n",
    "    'What is the <bar> age of <sex> who get diagnosed with <disease> for their 1st time <year>?',\n",
    "    \"What's the <bar> age of <sex> who get diagnosed with <disease> for their first time <year>?\",\n",
    "    '<year>, what is the <bar> age of <sex> who get diagnosed with <disease> for their 1st time?',\n",
    "    \"<year>, what's the <bar> age of <sex> who get diagnosed with <disease> for their first time?\",\n",
    "    'What is the <bar> age of <sex> with <disease> for the first time <year>?',\n",
    "    \"What's the <bar> age of <sex> with <disease> for the 1st time <year>?\",\n",
    "    '<year>, what is the <bar> age of <sex> with <disease> for the first time?',\n",
    "    \"<year>, what's the <bar> age of <sex> with <disease> for the 1st time?\",\n",
    "    'Normal <sex> age for initial <disease> diagnosis <year>.',\n",
    "    'Normal <sex> age for initial diagnosis of <disease> <year>?',\n",
    "    'For <sex> diagnosed with <disease>, how old are they at first diagnosis <year>?',\n",
    "    'At what age are <sex> typically diagnosed with their first <disease> <year>?',\n",
    "    'How old on average are the <sex> diagnosed with <disease> for the 1st time <year>?',\n",
    "    '<year>, how old on average are the <sex> diagnosed with <disease> for the 1st time?',\n",
    "    'What is the <bar> age of women who get diagnosed with <disease> for their first time <year>?',\n",
    "    \"What's the <bar> age of women who get diagnosed with <disease> for their first time <year>?\",\n",
    "    '<year>, what is the <bar> age of women who get diagnosed with <disease> for their first time?',\n",
    "    \"<year>, what's the <bar> age of women who get diagnosed with <disease> for their first time?\"\n",
    "]\n",
    "\n",
    "def question2():\n",
    "    '''\n",
    "    return string(question), list(conditions), string(columns seperated by ',')\n",
    "    '''\n",
    "    num = random.random() # random float 0.0 <= x < 1.0\n",
    "    bar = 'mean' if random.random() < 0.5 else 'average'\n",
    "    prep = random.choice(['in','among','for'])\n",
    "    if num < 0.2:\n",
    "        q_list = [\n",
    "            'What is the '+bar+' age at the first event for <disease>?',\n",
    "            \"What's the \"+bar+' age at the first event for <disease>?'\n",
    "        ]\n",
    "        q = random.choice(q_list)\n",
    "        a = ['endpoint IN (<disease>)']\n",
    "    else: \n",
    "        sex_q, sex_a = sex()\n",
    "        year_q, year_a = year()\n",
    "        q = sentence_clean(random.choice(questions_2).replace('<sex>', sex_q).replace('<year>', year_q))\n",
    "        a = sex_a+['endpoint IN (<disease>)']+year_a\n",
    "    q = q.replace('<bar>', bar).replace('<prep>', prep)\n",
    "    return q.capitalize(), a, 'age, counts'"
   ]
  },
  {
   "cell_type": "code",
   "execution_count": 189,
   "id": "094b3f6d-9f1d-4de9-ac99-de913c693e06",
   "metadata": {},
   "outputs": [
    {
     "name": "stdout",
     "output_type": "stream",
     "text": [
      "('During a 1-year period starting in 2018, what is the average age at the first event of <disease>  among  children?', ['endpoint IN (<disease>)', 'year between 2018 and 2019'])\n",
      "(\"What's the mean age of old men who get diagnosed with <disease> for their first time?\", ['sex = 1', 'endpoint IN (<disease>)'])\n",
      "(\"What's the average age at the first event of <disease>  for  adolescents after 2000?\", ['endpoint IN (<disease>)', 'year > 2000'])\n",
      "(\"Ending in 2000, what's the average age of women who get diagnosed with <disease> for their first time?\", ['sex = 2', 'endpoint IN (<disease>)', 'year < 2000'])\n",
      "('What is the mean age of males who get diagnosed with <disease> for their 1st time by 2002?', ['sex = 1', 'endpoint IN (<disease>)', 'year < 2002'])\n"
     ]
    }
   ],
   "source": [
    "for i in range(5):\n",
    "    print(question2())"
   ]
  },
  {
   "cell_type": "markdown",
   "id": "56e32c12-d80f-4083-bfae-fb63d2076f91",
   "metadata": {},
   "source": [
    "#### Question 3\n",
    "    Question - What is the prevalence of coronary heart disease among women?\\n\n",
    "    Answer - output: prevalence; female, coronary heart disease\\n\\n\""
   ]
  },
  {
   "cell_type": "code",
   "execution_count": 264,
   "id": "41b4a330-efd3-434b-8acd-29b2913d40d3",
   "metadata": {},
   "outputs": [
    {
     "data": {
      "text/html": [
       "<div>\n",
       "<style scoped>\n",
       "    .dataframe tbody tr th:only-of-type {\n",
       "        vertical-align: middle;\n",
       "    }\n",
       "\n",
       "    .dataframe tbody tr th {\n",
       "        vertical-align: top;\n",
       "    }\n",
       "\n",
       "    .dataframe thead th {\n",
       "        text-align: right;\n",
       "    }\n",
       "</style>\n",
       "<table border=\"1\" class=\"dataframe\">\n",
       "  <thead>\n",
       "    <tr style=\"text-align: right;\">\n",
       "      <th></th>\n",
       "      <th>endpoint</th>\n",
       "      <th>prevalence_all</th>\n",
       "      <th>prevalence_female</th>\n",
       "      <th>prevalence_male</th>\n",
       "    </tr>\n",
       "  </thead>\n",
       "  <tbody>\n",
       "    <tr>\n",
       "      <th>0</th>\n",
       "      <td>AB1TUBERCU_MILIARY</td>\n",
       "      <td>0.000166</td>\n",
       "      <td>0.000148</td>\n",
       "      <td>0.000155</td>\n",
       "    </tr>\n",
       "    <tr>\n",
       "      <th>1</th>\n",
       "      <td>AB1_ACTINOMYCOSIS</td>\n",
       "      <td>0.000138</td>\n",
       "      <td>0.000144</td>\n",
       "      <td>0.000130</td>\n",
       "    </tr>\n",
       "    <tr>\n",
       "      <th>2</th>\n",
       "      <td>AB1_AFRICAN_TRYPANOSOMIASIS</td>\n",
       "      <td>0.000004</td>\n",
       "      <td>0.000003</td>\n",
       "      <td>0.000005</td>\n",
       "    </tr>\n",
       "    <tr>\n",
       "      <th>3</th>\n",
       "      <td>AB1_AMOEBIASIS</td>\n",
       "      <td>0.000303</td>\n",
       "      <td>0.000316</td>\n",
       "      <td>0.000291</td>\n",
       "    </tr>\n",
       "    <tr>\n",
       "      <th>4</th>\n",
       "      <td>AB1_ANOGENITAL_HERPES_SIMPLEX</td>\n",
       "      <td>0.002541</td>\n",
       "      <td>0.003071</td>\n",
       "      <td>0.001513</td>\n",
       "    </tr>\n",
       "  </tbody>\n",
       "</table>\n",
       "</div>"
      ],
      "text/plain": [
       "                        endpoint  prevalence_all  prevalence_female  \\\n",
       "0             AB1TUBERCU_MILIARY        0.000166           0.000148   \n",
       "1              AB1_ACTINOMYCOSIS        0.000138           0.000144   \n",
       "2    AB1_AFRICAN_TRYPANOSOMIASIS        0.000004           0.000003   \n",
       "3                 AB1_AMOEBIASIS        0.000303           0.000316   \n",
       "4  AB1_ANOGENITAL_HERPES_SIMPLEX        0.002541           0.003071   \n",
       "\n",
       "   prevalence_male  \n",
       "0         0.000155  \n",
       "1         0.000130  \n",
       "2         0.000005  \n",
       "3         0.000291  \n",
       "4         0.001513  "
      ]
     },
     "execution_count": 264,
     "metadata": {},
     "output_type": "execute_result"
    }
   ],
   "source": [
    "a = pd.read_csv(content_path+'/key_figures_all_2022-03-22.csv', index_col=0)[['endpoint','prevalence_all','prevalence_female','prevalence_male']]\n",
    "a.head()"
   ]
  },
  {
   "cell_type": "code",
   "execution_count": 289,
   "id": "3188c6ee-48b7-4390-a911-34d1b0f7da33",
   "metadata": {},
   "outputs": [],
   "source": [
    "questions_3 = [\n",
    "    'What is the prevalence of <disease> <prep> <sex> <year>?',\n",
    "    \"What's the prevalence of <disease> <prep> <sex> <year>?\",\n",
    "    '<year>, what is the prevalence of <disease> <prep> <sex>?',\n",
    "    \"<year>, what's the prevalence of <disease> <prep> <sex>?\",\n",
    "    'Prevalence of <disease> <prep> <sex> <year>?',\n",
    "    'Prevalence of <disease> <prep> <sex> <year>.',\n",
    "    '<prep> <sex>, what is the prevalence of <disease>?',\n",
    "    \"<prep> <sex>, what's the prevalence of <disease>?\",\n",
    "#     'How common is <disease> <prep> <sex> <year>?',\n",
    "#     'How common is <disease> in <place>?',\n",
    "    'How prevalent is <disease> <prep> <sex> <year>?',\n",
    "    'How prevalent is <disease> in <place>?',\n",
    "    'What is the proportion of <sex> with <disease> <year>?',\n",
    "    \"What's the proportion of <sex> with <disease> <year>?\"\n",
    "]\n",
    "\n",
    "def question3():\n",
    "    '''\n",
    "    return string(question), list(conditions), string(columns seperated by ',')\n",
    "    '''\n",
    "    num = random.random() # random float 0.0 <= x < 1.0\n",
    "    prep = random.choice(['in','among','for'])\n",
    "    if num < 0.5:\n",
    "        q_list = [\n",
    "            'What is the prevalence of <disease>?',\n",
    "            \"What's the prevalence of <disease>?\",\n",
    "            \"What's <disease>'s prevalence?\",\n",
    "            \"What is <disease>'s prevalence?\",\n",
    "            \"How prevalent is <disease>?\",\n",
    "#             \"How common is <disease>?\",\n",
    "            'Prevalence of <disease>?',\n",
    "            'Prevalence of <disease>.',\n",
    "            'Proportion of population with <disease>?',\n",
    "            'Proportion of population with <disease>.'\n",
    "        ]\n",
    "        q = random.choice(q_list)\n",
    "        a = ['endpoint IN (<disease>)']\n",
    "        col = 'prevalence_all'\n",
    "    else: \n",
    "        sex_q, sex_a = sex()\n",
    "        year_q, year_a = year()\n",
    "        q = sentence_clean(random.choice(questions_3).replace('<sex>', sex_q).replace('<year>', year_q))\n",
    "        a = ['endpoint IN (<disease>)']\n",
    "        col = 'prevalence_female' if sex_a == ['sex = 2'] else 'prevalence_male' if sex_a == ['sex = 1'] else 'prevalence_all'\n",
    "    q = q.replace('<prep>', prep)\n",
    "    num_ = random.random()\n",
    "    q = re.sub(r'(prevalence)',r'unadjusted \\1', q) if num_ < 0.4 else q\n",
    "    return q.capitalize().replace('<place>', places()), a, col"
   ]
  },
  {
   "cell_type": "code",
   "execution_count": 281,
   "id": "6813a369-bcf0-4b43-9c60-a5197a7b1279",
   "metadata": {},
   "outputs": [
    {
     "data": {
      "text/plain": [
       "'What is the unadjusted prevalence of <disease> in patients in the past 14 years?'"
      ]
     },
     "execution_count": 281,
     "metadata": {},
     "output_type": "execute_result"
    }
   ],
   "source": [
    "re.sub(r'(prevalence)',r'unadjusted \\1', 'What is the prevalence of <disease> in patients in the past 14 years?')"
   ]
  },
  {
   "cell_type": "code",
   "execution_count": 230,
   "id": "d42655c4-b6c8-4c38-8fd0-43eee122f50b",
   "metadata": {},
   "outputs": [
    {
     "data": {
      "text/plain": [
       "('Prevalence of <disease>.', ['endpoint IN (<disease>)'], 'prevalence_all')"
      ]
     },
     "execution_count": 230,
     "metadata": {},
     "output_type": "execute_result"
    }
   ],
   "source": [
    "question3()"
   ]
  },
  {
   "cell_type": "code",
   "execution_count": 287,
   "id": "f4ff4de4-bb3f-4139-a202-37b0ef34b6df",
   "metadata": {},
   "outputs": [
    {
     "name": "stdout",
     "output_type": "stream",
     "text": [
      "(\"What's the prevalence of <disease>?\", ['endpoint IN (<disease>)'], 'prevalence_all')\n",
      "(\"What's the prevalence of <disease>?\", ['endpoint IN (<disease>)'], 'prevalence_all')\n",
      "('How common is <disease>?', ['endpoint IN (<disease>)'], 'prevalence_all')\n",
      "('How common is <disease>?', ['endpoint IN (<disease>)'], 'prevalence_all')\n",
      "(\"What's the unadjusted prevalence of <disease> for people last year?\", ['endpoint IN (<disease>)'], 'prevalence_all')\n"
     ]
    }
   ],
   "source": [
    "for i in range(5):\n",
    "    print(question3())"
   ]
  },
  {
   "cell_type": "markdown",
   "id": "3b4632b2-dd08-4afa-86c0-969f23de5ec2",
   "metadata": {},
   "source": [
    "#### Question 4\n",
    "    Question - What is the incidence of eczema for females over 15 years?\\n\n",
    "    Answer - output: incidence; female, eczema\\n\\n\""
   ]
  },
  {
   "cell_type": "code",
   "execution_count": 271,
   "id": "feb3264b-f0a7-4b29-b58e-59ece9c2c19e",
   "metadata": {},
   "outputs": [
    {
     "data": {
      "text/html": [
       "<div>\n",
       "<style scoped>\n",
       "    .dataframe tbody tr th:only-of-type {\n",
       "        vertical-align: middle;\n",
       "    }\n",
       "\n",
       "    .dataframe tbody tr th {\n",
       "        vertical-align: top;\n",
       "    }\n",
       "\n",
       "    .dataframe thead th {\n",
       "        text-align: right;\n",
       "    }\n",
       "</style>\n",
       "<table border=\"1\" class=\"dataframe\">\n",
       "  <thead>\n",
       "    <tr style=\"text-align: right;\">\n",
       "      <th></th>\n",
       "      <th>age</th>\n",
       "      <th>sex</th>\n",
       "      <th>cumulinc</th>\n",
       "      <th>endpoint</th>\n",
       "    </tr>\n",
       "  </thead>\n",
       "  <tbody>\n",
       "    <tr>\n",
       "      <th>0</th>\n",
       "      <td>0.0</td>\n",
       "      <td>2</td>\n",
       "      <td>0.0000</td>\n",
       "      <td>ENTEROPATH_E_COLI</td>\n",
       "    </tr>\n",
       "    <tr>\n",
       "      <th>1</th>\n",
       "      <td>1.0</td>\n",
       "      <td>2</td>\n",
       "      <td>0.0000</td>\n",
       "      <td>ENTEROPATH_E_COLI</td>\n",
       "    </tr>\n",
       "    <tr>\n",
       "      <th>2</th>\n",
       "      <td>2.0</td>\n",
       "      <td>2</td>\n",
       "      <td>0.0001</td>\n",
       "      <td>ENTEROPATH_E_COLI</td>\n",
       "    </tr>\n",
       "    <tr>\n",
       "      <th>3</th>\n",
       "      <td>3.0</td>\n",
       "      <td>2</td>\n",
       "      <td>0.0001</td>\n",
       "      <td>ENTEROPATH_E_COLI</td>\n",
       "    </tr>\n",
       "    <tr>\n",
       "      <th>4</th>\n",
       "      <td>4.0</td>\n",
       "      <td>2</td>\n",
       "      <td>0.0001</td>\n",
       "      <td>ENTEROPATH_E_COLI</td>\n",
       "    </tr>\n",
       "  </tbody>\n",
       "</table>\n",
       "</div>"
      ],
      "text/plain": [
       "   age  sex  cumulinc           endpoint\n",
       "0  0.0    2    0.0000  ENTEROPATH_E_COLI\n",
       "1  1.0    2    0.0000  ENTEROPATH_E_COLI\n",
       "2  2.0    2    0.0001  ENTEROPATH_E_COLI\n",
       "3  3.0    2    0.0001  ENTEROPATH_E_COLI\n",
       "4  4.0    2    0.0001  ENTEROPATH_E_COLI"
      ]
     },
     "execution_count": 271,
     "metadata": {},
     "output_type": "execute_result"
    }
   ],
   "source": [
    "a = pd.read_csv(content_path+'/cumulative_incidence_2022-04-14.csv', index_col=0)\n",
    "a['sex'] = np.select([(a.sex == 'female'), (a.sex == 'male')], [2, 1])\n",
    "a = pd.DataFrame(a.to_records())\n",
    "a.head()"
   ]
  },
  {
   "cell_type": "code",
   "execution_count": 296,
   "id": "8237bac4-613f-4b71-b374-a4900ba8ac7f",
   "metadata": {},
   "outputs": [],
   "source": [
    "questions_4 = [\n",
    "    'What is the <key> of <disease> <prep> <sex> <age> <year>?',\n",
    "    \"What's the <key> of <disease> <prep> <sex> <age> <year>?\",\n",
    "    '<year>, what is the <key> of <disease> <prep> <sex> <age>?',\n",
    "    \"<year>, what's the <key> of <disease> <prep> <sex> <age>?\",\n",
    "    '<key> of <disease> <prep> <sex> <age> <year>?',\n",
    "    '<key> of <disease> <prep> <sex> <age> <year>.',\n",
    "    '<prep> <sex> <age>, what is the <key> of <disease> in <place>?',\n",
    "    \"<prep> <sex> <age>, what's the <key> of <disease>?\",\n",
    "#     'How common is <disease> <prep> <sex> <year>?',\n",
    "#     'How common is <disease> in <place>?',\n",
    "]\n",
    "\n",
    "questions_4_special = [\n",
    "    'What is the '\n",
    "]\n",
    "\n",
    "def question4():\n",
    "    '''\n",
    "    return string(question), list(conditions), string(columns seperated by ',')\n",
    "    '''\n",
    "    num = random.random() # random float 0.0 <= x < 1.0\n",
    "    prep = random.choice(['in','among','for'])\n",
    "    key_word = random.choice(['incidence', 'incidence rate', 'cumulative incidence', 'cumulative incidence rate', \n",
    "                              'accumulative incidence', 'accumulative incidence rate'])\n",
    "    if num < 0.4:\n",
    "        q_list = [\n",
    "            'What is the <key> of <disease>?',\n",
    "            \"What's the <key> of <disease>?\",\n",
    "            \"What's <disease>'s <key> in <place>?\",\n",
    "            \"What is <disease>'s <key>?\",\n",
    "#             \"How common is <disease>?\",\n",
    "            '<key> of <disease>?',\n",
    "            '<key> of <disease>.',\n",
    "            '<key> of <disease> in <place>.',\n",
    "            'Incidence proportion of <disease>.',\n",
    "            'Risk of <disease>.',\n",
    "            'Attack rate of <disease>.'\n",
    "        ]\n",
    "        q = random.choice(q_list)\n",
    "        a = ['endpoint IN (<disease>)']\n",
    "    else: \n",
    "        year_q, year_a = year()\n",
    "        if num < 0.7:\n",
    "            sex_q, sex_a = sex()\n",
    "            age_q, age_a = age()\n",
    "            q = sentence_clean(random.choice(questions_3).replace('<sex>', sex_q).replace('<year>', year_q)).replace('<age>', age_q)\n",
    "        else:\n",
    "            sex_q, sex_a = sex(True)\n",
    "            age_q, age_a = age(True)\n",
    "            \n",
    "        a = sex_a+['endpoint IN (<disease>)']+age_a\n",
    "    q = q.replace('<prep>', prep).replace('<key>', key_word)\n",
    "    return q.capitalize().replace('<place>', places()), a, 'age, sex, cumulinc'"
   ]
  },
  {
   "cell_type": "code",
   "execution_count": null,
   "id": "08fd028a-3ff6-4927-b3d2-6569261ed220",
   "metadata": {},
   "outputs": [],
   "source": [
    "for i in range(50):\n",
    "    print(question4())"
   ]
  },
  {
   "cell_type": "code",
   "execution_count": 291,
   "id": "80e930ef-69b1-4cf4-b3cf-e078f1c90b6a",
   "metadata": {},
   "outputs": [
    {
     "data": {
      "text/plain": [
       "0.05"
      ]
     },
     "execution_count": 291,
     "metadata": {},
     "output_type": "execute_result"
    }
   ],
   "source": [
    "((0.06/1)+(0.04/1))/2"
   ]
  },
  {
   "cell_type": "code",
   "execution_count": 292,
   "id": "5c185b4a-0380-4e38-a2c5-397bdf23dae2",
   "metadata": {},
   "outputs": [
    {
     "data": {
      "text/plain": [
       "0.06327570921985816"
      ]
     },
     "execution_count": 292,
     "metadata": {},
     "output_type": "execute_result"
    }
   ],
   "source": [
    "((0.13-0.06)/(1-0.06)+(0.09-0.04)/(1-0.04))/2"
   ]
  },
  {
   "cell_type": "code",
   "execution_count": 294,
   "id": "e0398f02-c32a-4548-a31c-631563c8af1f",
   "metadata": {},
   "outputs": [
    {
     "data": {
      "text/plain": [
       "0.095"
      ]
     },
     "execution_count": 294,
     "metadata": {},
     "output_type": "execute_result"
    }
   ],
   "source": [
    "(0.13+0.06)/2"
   ]
  },
  {
   "cell_type": "code",
   "execution_count": 295,
   "id": "cc4201f6-75dd-4d0a-949d-0a8ed2659b93",
   "metadata": {},
   "outputs": [
    {
     "data": {
      "text/plain": [
       "0.07446808510638299"
      ]
     },
     "execution_count": 295,
     "metadata": {},
     "output_type": "execute_result"
    }
   ],
   "source": [
    "(0.13-0.06)/(1-0.06)"
   ]
  },
  {
   "cell_type": "code",
   "execution_count": 272,
   "id": "ab0151eb-cf31-41c0-b702-047a2acf781b",
   "metadata": {},
   "outputs": [
    {
     "data": {
      "text/plain": [
       "103.0"
      ]
     },
     "execution_count": 272,
     "metadata": {},
     "output_type": "execute_result"
    }
   ],
   "source": [
    "a.age.max()"
   ]
  },
  {
   "cell_type": "code",
   "execution_count": null,
   "id": "78d45073-c174-465d-9dd0-7d16b8bac29c",
   "metadata": {},
   "outputs": [],
   "source": [
    "sex_q, sex_a = sex(True)\n",
    "age_q, age_a = age(True)\n",
    "re.sub(r'([a|an|my]) ', r'\\1'+age_q, sex_q)"
   ]
  },
  {
   "cell_type": "code",
   "execution_count": 32,
   "id": "60740ec5-1220-4c9d-9740-951e7d8185de",
   "metadata": {},
   "outputs": [
    {
     "data": {
      "text/plain": [
       "' 92-year-old '"
      ]
     },
     "execution_count": 32,
     "metadata": {},
     "output_type": "execute_result"
    }
   ],
   "source": [
    "#     print('sex_q',sex_q, 'age_q', age_q, 'year_q', year_q)    \n",
    "#     a = 'count(*); long_registry; '+', '.join(age_a+['endpoint = <disease>']+sex_a+year_a)\n",
    "#     a = ', '.join(age_a+['endpoint IN (<disease>)']+sex_a+year_a)"
   ]
  },
  {
   "cell_type": "code",
   "execution_count": 140,
   "id": "c11b452c-991a-4846-bf84-762996642f78",
   "metadata": {},
   "outputs": [],
   "source": [
    "\n",
    "    \n",
    "\n",
    "    \n",
    "def avgage_mortality(endpoint):\n",
    "    '''\n",
    "    return string(question), list(answer)\n",
    "    \n",
    "        'What is the average age of women who died after letrozole diagnosis?',\n",
    "  'How old on average are women who died after letrozole?',\n",
    " 'What is the average age of women who died after letrozole?',\n",
    " 'On average, how old is a woman who died of the diagnosis of letrozole?',\n",
    "  'What is the mean age of death regarding to disease?',\n",
    "  'Considering disease, what is the age of death on average?',\n",
    "  'What is the average age of men who died of the diagnosis of disease after five-year survival?',\n",
    "  'After a five-year survival, what is the average age of men who died of disease?',\n",
    "  'What is the average age of men who die of disease 5 years after their first diagnosis?',\n",
    "  'For those men who died 5 years after the first event of disease, what is their mean age?',\n",
    "  'On average, what is the age of men who died of the diagnosis of disease after a survival of fifteen years?',\n",
    "    \n",
    "    Question - What is the mean age of males who died 10 years after HIV diagnosis?\\n\n",
    "    Answer - output: mean age; people, migraine, 71, 100, 2013, 2017\\n\\n\"\n",
    "    '''\n",
    "    num = random.random() # random float 0.0 <= x < 1.0\n",
    "    bar = 'mean' if random.random() < 0.5 else 'average'\n",
    "\n",
    "    sex_q, sex_a = get_sex()\n",
    "    year_q, year_a = get_year()\n",
    "    \n",
    "    if num < 0.1:\n",
    "        q_list = [\n",
    "            'What is the '+bar+' age of death given the diagnosis of '+endpoint+'?',\n",
    "            'What is the '+bar+' age of death after being diagnosed with '+endpoint+'?',\n",
    "            'If one has '+endpoint+'. What is the '+bar+' age of death?'\n",
    "        ]\n",
    "        q = random.choice(q_list)\n",
    "        a = 'avg(age); long_registry; endpoint='+endpoint\n",
    "        return input_prefix+q+input_suffix+output_prefix+a+output_suffix\n",
    "    else: \n",
    "        sex_q, sex_a = get_sex()\n",
    "        year_q, year_a = get_year()\n",
    "        if year_q == '':\n",
    "            q_list = [\n",
    "                bar.capitalize()+' age of death for '+sex_q+' get diagnosed with '+endpoint+'.',\n",
    "                'Typical life expectancy of '+sex_q+' who get diagnosed with '+endpoint+'.',\n",
    "                'On average, how old are '+sex_q+' who died of the diagnosis of '+endpoint+'?',\n",
    "                'For '+sex_q+' having '+endpoint+', how many years do they normally live?',\n",
    "                'For '+sex_q+' having '+endpoint+', how many years do they normally live for?',\n",
    "                \"After the diagnosis of \"+endpoint+\", what's the \"+bar+\" age of \"+sex_q+\" who survived for another 5 years?\",\n",
    "                'How old on average age are the '+sex_q+' who died of '+endpoint+'?',\n",
    "                'What is the '+bar+' age of '+sex_q+' who deceased after the diagnosis of '+endpoint+'?',\n",
    "                \"What's the \"+bar+' age of '+sex_q+' deceased after the diagnosis of '+endpoint+'?',\n",
    "                'What is the '+bar+' age of '+sex_q+' who died of '+endpoint+'?',\n",
    "                'What is the '+bar+' age of '+sex_q+' who died after the diagnosis of '+endpoint+'?',\n",
    "                \"What's the \"+bar+' age of '+sex_q+' died after the diagnosis of '+endpoint+'?',\n",
    "                \"After being diagnosed with \"+endpoint+\", what's the \"+bar+' age of '+sex_q+' who survived for another 5 years?'\n",
    "            ]\n",
    "        else:\n",
    "            q_list = [\n",
    "                bar.capitalize()+' age of death for '+sex_q+' get diagnosed with '+endpoint+year_q+'.',\n",
    "                'Typical life expectancy of '+sex_q+' who get diagnosed with '+endpoint+year_q+'.',\n",
    "                'On average, how old are '+sex_q+' who died of the diagnosis of '+endpoint+year_q+'?',\n",
    "                'How old on average age are the '+sex_q+' who died of '+endpoint+year_q+'?',\n",
    "                year_q.strip().capitalize()+', how old on average age are the '+sex_q+' who died of '+endpoint+'?',\n",
    "                'What is the '+bar+' age of '+sex_q+' who deceased after the diagnosis of '+endpoint+year_q+'?',\n",
    "                \"What's the \"+bar+' age of '+sex_q+' deceased after the diagnosis of '+endpoint+year_q+'?',\n",
    "                'What is the '+bar+' age of '+sex_q+' who died of '+endpoint+year_q+'?',\n",
    "                'What is the '+bar+' age of '+sex_q+' who died after the diagnosis of '+endpoint+year_q+'?',\n",
    "                \"What's the \"+bar+' age of '+sex_q+' died after the diagnosis of '+endpoint+year_q+'?',\n",
    "                year_q.strip().capitalize()+\", what's the \"+bar+' age of '+sex_q+' who died of '+endpoint+'?',\n",
    "            ]\n",
    "#     cut = random.choice(cut_yr)\n",
    "#     if cut == 0:\n",
    "#         q = 'What is the '+bar+' age of '+sex_q+' who died after '+endpoint+' diagnosis?'\n",
    "#     elif cut == 1:\n",
    "#         q = 'What is the '+bar+' age of '+sex_q+' who died '+random.choice([str(cut),'one','a'])+' year after '+endpoint+' diagnosis?'\n",
    "#     else:\n",
    "#         q = 'What is the '+bar+' age of '+sex_q+' who died '+str(cut)+' years after '+endpoint+' diagnosis?'\n",
    "        q = random.choice(q_list)\n",
    "        a = 'avg(age); mortality; '+', '.join(['endpoint = '+endpoint]+sex_a)\n",
    "#         a = 'avg(age); mortality; '+', '.join(['cut_year = '+str(cut),'endpoint = '+endpoint]+sex_a)\n",
    "        return input_prefix+q+input_suffix+output_prefix+a+output_suffix\n",
    "\n",
    "def count_mortality(endpoint):\n",
    "    '''\n",
    "    return string(question), list(answer)\n",
    "    \n",
    " 'How many individuals under 72 have died 5 years after the diagnosis of nasal and breast cancer?',\n",
    " 'How many people under 72 years of age died 5 years after diagnosis of sinus cancer?',\n",
    " *'Death rate of patients under 72 who were found to have nasal and sinus cancer five years earlier.',\n",
    " *'What is rate of mortality for those aged 71 years or less and had a nasal and sinus cancer diagnosis at least 5 years ago?',\n",
    " ['How many men between 20 and 21 died 5 years after they diagnosed with aciclovir?',\n",
    "  'How many men aged from 20 to 21 has died 5 years after their diagnosis of aciclovir?',\n",
    "  'How many men between 20 and 21 years have died 5 years after they got aciclovir?',\n",
    "  'How many men between the ages of 20 and 21 die five years after being diagnosed with acetic acid?',\n",
    "  'How many men from 20 to 21 years old have died after being diagnosed with acetic acid for 5 years?',\n",
    "['How many women over 73 years old died 15 years after clonazepam diagnosis?',\n",
    "  'How many women over 73 are dead 15 years after the diagnosis of clonazepam?',\n",
    "  'How many old women over the age of 73 die 15 years after the diagnosis of Clonazepam?',\n",
    "  'How many 73 years old or older grandmas died after 15 years of diagnosis of clonazepam?',\n",
    "[\"What's the number of people below 72 years old if they died 5 years after nasal and sinus cancer diagnosis?\",\n",
    "  'How many people under 72 years old died after they suffered 5 years from nasal and sinus cancer?',\n",
    "  'How many individuals under 72 have died 5 years after the diagnosis of nasal and breast cancer?',\n",
    "  'What is the death toll of nasal and sinus cancer if these patients are younger than 72 and have survived for 5 years?',\n",
    "\n",
    "    \n",
    "    Question - How many females at 59 died 15 years after they diagnosed as asthma in 2012??\\n\n",
    "    Answer - output: count(*) ; motality ; endpoint = asthma , cut_year = 15 , age = 59 , year = 2012\\n\\n\"\n",
    "    '''\n",
    "#     num = random.random() # random float 0.0 <= x < 1.0\n",
    "\n",
    "    sex_q, sex_a = get_sex()\n",
    "    age_q, age_a = get_age()\n",
    "#     year_q, year_a = get_year()\n",
    "    cut = random.choice(['0','1','5','10','15','five','ten','fifteen'])\n",
    "    \n",
    "    if cut == '0':\n",
    "        q_list = [\n",
    "            'How many '+sex_q+age_q+' died after '+endpoint+' diagnosis?',\n",
    "            'How many '+sex_q+age_q+' died after they diagnosed with '+endpoint+'?',\n",
    "            'How many '+sex_q+age_q+' died of '+endpoint+'?'\n",
    "        ]\n",
    "    elif cut == '1':\n",
    "        q_list = [\n",
    "            'How many '+sex_q+age_q+' died '+random.choice([cut,'one','a'])+' year after '+endpoint+' diagnosis?',\n",
    "            'How many '+sex_q+age_q+' died '+random.choice([cut,'one','a'])+' year after they diagnosed with '+endpoint+'?'\n",
    "        ]\n",
    "    else:\n",
    "        q_list = [\n",
    "#             'How many '+sex_q+' with '+endpoint+' are dying '+cut+' years later, considering only those who are '+age_q+'?',\n",
    "            'How many '+sex_q+age_q+' died '+cut+' years after '+endpoint+' diagnosis?',\n",
    "            'How many '+sex_q+age_q+' died '+cut+' years after they diagnosed with '+endpoint+'?',\n",
    "            'How many '+sex_q+age_q+' died of '+endpoint+' '+cut+' years after the first diagnosis?',\n",
    "            'What was the number of '+sex_q+age_q+' who died '+cut+' years after having '+endpoint+'?',\n",
    "            'What was the number of '+sex_q+age_q+' who died '+cut+' years after the diagnosis of '+endpoint+'?',\n",
    "            'What is the number of '+sex_q+age_q+' who died '+cut+' years after being diagnosed with '+endpoint+'?',\n",
    "            \"What's the number of \"+sex_q+age_q+' who died '+cut+' years after being diagnosed with '+endpoint+'?',\n",
    "            'How many '+sex_q+age_q+' died after they suffered 5 years from '+endpoint+'?',\n",
    "        ]\n",
    "    \n",
    "    q = random.choice(q_list)        \n",
    "    a = 'count(*); mortality; '+', '.join(age_a+['cut_year = '+str(cut),'endpoint = '+endpoint]+sex_a)\n",
    "    return input_prefix+q+input_suffix+output_prefix+a+output_suffix\n",
    "\n",
    "def hr_cox(endpoint):\n",
    "    '''\n",
    "    return string(question), list(answer)\n",
    "        \n",
    "    Question - What is the hazard ratio of COPD given asthma after 2010?\\n\n",
    "    Answer - output: hr ; cox_hrs ; prior = asthma, outcome = COPD, year > 2010\\n\\n\"\n",
    "    '''\n",
    "#     num = random.random() # random float 0.0 <= x < 1.0\n",
    "    sex_dict = {\n",
    "        'males':'male','females':'female','men':'man','women':'woman','people':'person','individuals':'person','patients':'patient'\n",
    "    }\n",
    "\n",
    "    sex_q, sex_a = get_sex()\n",
    "    age_q, age_a = get_age()\n",
    "    year_q, year_a = get_year()\n",
    "    prior = 'stroke'#random.choice(diseases_train)\n",
    "    prep = random.choice([' in ',' among ',' for '])#' in ' if random.random() < 0.5 else ' among '\n",
    "    i_am_a = random.choice(['I am a ','This is a ',\"I'm a \"])\n",
    "    \n",
    "    if year_q == '':\n",
    "        q_list = [\n",
    "            'What is the hazard ratio of '+endpoint+' given '+prior+prep+sex_q+age_q+'?',\n",
    "            \"What's the hazard ratio of \"+endpoint+' given '+prior+prep+sex_q+age_q+'?',\n",
    "            'How much more likely are '+sex_q+age_q+' to develop '+endpoint+' if they are already diagnosed with '+prior+'?',\n",
    "            'What extra risk of '+endpoint+' '+sex_q+age_q+' does a previous diagnosis of '+prior+' confer?',\n",
    "            'How does a prior diagnosis of '+prior+' effect the risk of '+sex_q+age_q+' developing '+endpoint+'?'\n",
    "            'If my '+sex_dict[sex_q]+' is'+age_q+' having '+prior+'. What is the risk ratio of '+endpoint+'?',\n",
    "            'If my '+sex_dict[sex_q]+' is'+age_q+' diagnosed with '+prior+'. What is the risk ratio of having '+endpoint+'?',\n",
    "            i_am_a+sex_dict[sex_q]+age_q+' with '+prior+'. What is my risk rate of having '+endpoint+'?',\n",
    "        ]\n",
    "    else:\n",
    "        # What is the hazard ratio of COPD for those who had asthma after 2010?\n",
    "        q_list = [\n",
    "            'What is the hazard ratio of '+endpoint+' for those '+sex_q+age_q+' who had '+prior+year_q+'?',\n",
    "            'What is the hazard ratio of '+endpoint+' given '+prior+prep+sex_q+age_q+year_q+'?',\n",
    "            \"What's the hazard ratio of \"+endpoint+' given '+prior+prep+sex_q+age_q+year_q+'?',\n",
    "            year_q.strip().capitalize()+\", what is the hazard ratio of \"+endpoint+' given '+prior+prep+sex_q+age_q+'?',\n",
    "            year_q.strip().capitalize()+\", what's the hazard ratio of \"+endpoint+' given '+prior+prep+sex_q+age_q+'?'\n",
    "            'How much more likely are '+sex_q+age_q+' to develop '+endpoint+' if they are already diagnosed with '+prior+year_q+'?',\n",
    "            year_q.strip().capitalize()+', how much more likely are '+sex_q+age_q+' to develop '+endpoint+' if they are already diagnosed with '+prior+'?',\n",
    "            year_q.strip().capitalize()+', what extra risk of '+endpoint+prep+sex_q+age_q+' does a previous diagnosis of '+prior+' confer?',\n",
    "            'What extra risk of '+endpoint+prep+sex_q+age_q+' does a previous diagnosis of '+prior+' confer '+year_q+'?',\n",
    "            'How does a prior diagnosis of '+prior+' effect the risk of '+sex_q+age_q+' developing '+endpoint+year_q+'?',\n",
    "            year_q.strip().capitalize()+', how does a prior diagnosis of '+prior+' effect the risk of '+sex_q+age_q+' developing '+endpoint+'?'\n",
    "        ]\n",
    "        \n",
    "    q = random.choice(q_list)     \n",
    "    a = 'hr; cox_hrs; '+', '.join(age_a+['outcome = '+endpoint,'prior = '+prior]+sex_a+year_a)\n",
    "    return input_prefix+q+input_suffix+output_prefix+a+output_suffix\n",
    "\n",
    "def outcome_cox(endpoint):\n",
    "    '''\n",
    "    return string(question), list(answer)\n",
    "    \n",
    "    Question - Which diseases may be diagnosed after asthma for people between 25 to 65?\\n\n",
    "    Answer - output: hr ; cox_hrs ; prior = asthma, outcome = COPD, year > 2010\\n\\n\"\n",
    "    '''\n",
    "    num = random.random() # random float 0.0 <= x < 1.0\n",
    "    \n",
    "    sex_dict = {\n",
    "        'males':'male','females':'female','men':'man','women':'woman','people':'person','individuals':'person','patients':'patient'\n",
    "    }\n",
    "\n",
    "    sex_q, sex_a = get_sex()\n",
    "    age_q, age_a = get_age()\n",
    "    year_q, year_a = get_year()\n",
    "    ep = random.choice(['disease','complication','comorbidity','illness','diagnosis','condition'])\n",
    "    eps = random.choice(['diseases','complications','comorbidities','illnesses','diagnoses','conditions'])\n",
    "    prep = random.choice([' in ',' among ',' for '])\n",
    "    i_am_a = random.choice(['I am a ','This is a ',\"I'm a \"])\n",
    "    \n",
    "    if num < 0.2:\n",
    "        q_list = [\n",
    "            'My patient is a '+sex_dict[sex_q]+age_q+'. What is the most related '+ep+' given '+endpoint+year_q+'?',\n",
    "            'What is the most related '+ep+' given '+endpoint+year_q+' if my patient is a '+sex_dict[sex_q]+age_q+'?',\n",
    "            i_am_a+sex_dict[sex_q]+' with '+endpoint+'. What is the most possible '+ep+' I '+random.choice(['may','will','might'])+' get?',\n",
    "            'Which '+ep+' may be diagnosed given '+endpoint+prep+sex_q+age_q+year_q+'?',\n",
    "            'What is the most '+random.choice([' severe ',' possible '])+ep+prep+sex_q+age_q+year_q+' given '+endpoint+'?',\n",
    "            'Given '+endpoint+', what is the strongest associated '+ep+prep+sex_q+age_q+year_q+'?',\n",
    "            'Given '+endpoint+\", what's the strongest associated \"+ep+prep+sex_q+age_q+year_q+'?',\n",
    "            'If '+sex_q+age_q+' are diagnosed with '+endpoint+', what '+ep+' are they most likely to suffer from in the period'+year_q+'?',\n",
    "            'What are the most common '+ep+prep+age_q+' who had '+endpoint+year_q+'?',\n",
    "            'Which '+ep+' is most commonly diagnosed'+prep+sex_q+age_q+year_q+'?',\n",
    "        ]\n",
    "        q = random.choice(q_list) \n",
    "        a = 'outcome; cox_hrs; '+', '.join(age_a+['prior = '+endpoint]+sex_a+year_a)+'; order by risk desc limit 1'\n",
    "    elif num < 0.6:\n",
    "        q_list = [\n",
    "            'My patient is a '+sex_dict[sex_q]+age_q+'. What is the related '+eps+' given '+endpoint+year_q+'?',\n",
    "            'What is the most related '+ep+' given '+endpoint+year_q+' if my patient is a '+sex_dict[sex_q]+age_q+year_q+'?',\n",
    "            'Which '+eps+' may be diagnosed given '+endpoint+' for '+sex_q+age_q+year_q+'?',\n",
    "            'What are the '+random.choice([' ',' severe ',' possible '])+eps+prep+sex_q+age_q+year_q+' given '+endpoint+'?',\n",
    "            'Given '+endpoint+', what are the strongest associated '+eps+prep+sex_q+age_q+year_q+'?',\n",
    "            'Given '+endpoint+\", what're the strongest associated \"+eps+prep+sex_q+age_q+year_q+'?',\n",
    "            'If '+sex_q+age_q+' are diagnosed with '+endpoint+', what are they likely to suffer from in the period'+year_q+'?',\n",
    "            'What are the most common '+eps+prep+age_q+' who had '+endpoint+year_q+'?',\n",
    "            i_am_a+sex_dict[sex_q]+' with '+endpoint+'. What are the most possible '+eps+' this '+sex_dict[sex_q]+' will get?',\n",
    "            'Which '+eps+' are most commonly diagnosed'+prep+sex_q+age_q+year_q+'?',\n",
    "        ]\n",
    "        q = random.choice(q_list) \n",
    "        a = 'outcome; cox_hrs; '+', '.join(age_a+['prior = '+endpoint]+sex_a+year_a)+'; order by risk desc limit 5'\n",
    "    \n",
    "    else:\n",
    "        # What are the top 5 severe complications given cardiovascular diseases for men above 65?\n",
    "        num_disease = random.choice([str(i) for i in range(2,11)]+['two','three','four','five','six','seven','eight','nine','ten'])\n",
    "        q_list = [\n",
    "            'My patient is a '+sex_dict[sex_q]+age_q+'. What is the '+num_disease+' most relevant '+eps+' given '+endpoint+year_q+'?',\n",
    "            'What are the top '+num_disease+random.choice([' ',' severe ',' possible '])+eps+prep+sex_q+age_q+year_q+' given '+endpoint+'?',\n",
    "            \"What're the top \"+num_disease+random.choice([' ',' severe ',' possible '])+eps+prep+sex_q+age_q+year_q+' given '+endpoint+'?',\n",
    "            'Given '+endpoint+', what are the top '+num_disease+' strongest associated '+eps+prep+sex_q+age_q+year_q+'?',\n",
    "            'Given '+endpoint+\", what're the top \"+num_disease+' strongest associated '+eps+prep+sex_q+age_q+year_q+'?',\n",
    "            'If '+sex_q+age_q+' are diagnosed with '+endpoint+', what '+num_disease+' things are they likely to suffer from in the period'+year_q+'?',\n",
    "            'What are the '+num_disease+' most common '+eps+prep+age_q+' who had '+endpoint+year_q+'?',\n",
    "            i_am_a+sex_dict[sex_q]+' with '+endpoint+'. What are the '+num_disease+' most possible '+eps+' this '+sex_dict[sex_q]+' will get?',\n",
    "            'Which '+num_disease+' '+eps+' are most commonly diagnosed'+prep+sex_q+age_q+year_q+'?',\n",
    "        ]\n",
    "        q = random.choice(q_list) \n",
    "        a = 'outcome; cox_hrs; '+', '.join(age_a+['prior = '+endpoint]+sex_a+year_a)+'; order by risk desc limit '+str(num_disease)\n",
    "    \n",
    "    return input_prefix+q+input_suffix+output_prefix+a+output_suffix\n",
    "\n",
    "\n",
    "\n",
    "def prior_cox(endpoint):\n",
    "    '''\n",
    "    return string(question), list(answer)\n",
    "     \n",
    "    Question - Which diseases may be diagnosed before asthma?\\n\n",
    "    Answer - output: prior ; cox_hrs ; outcome = asthma ; order by risk desc limit 5\\n\\n\"\n",
    "    '''\n",
    "#     num = random.random() # random float 0.0 <= x < 1.0\n",
    "    ep = random.choice(['diseases','diagnoses','conditions','illnesses'])\n",
    "    wh = 'what ' if random.random() < 0.5 else 'which '\n",
    "    \n",
    "    sex_q, sex_a = get_sex()\n",
    "    age_q, age_a = get_age()\n",
    "    year_q, year_a = get_year()\n",
    "    \n",
    "    if year_q == '':\n",
    "        q_list = [\n",
    "            'Prior to '+endpoint+', '+wh+ep+' are most likely to be diagnosed in '+sex_q+age_q+'?',\n",
    "            wh.capitalize()+ep+' may be diagnosed before '+endpoint+' in '+sex_q+age_q+'?',\n",
    "            wh.capitalize()+ep+' will '+sex_q+age_q+' have with before '+endpoint+'?',\n",
    "        ]\n",
    "    else:\n",
    "        q_list = [\n",
    "            'Prior to '+endpoint+', '+wh+ep+' are most likely to be diagnosed in '+sex_q+age_q+year_q+'?',\n",
    "            wh.capitalize()+ep+' may be diagnosed before '+endpoint+' in '+sex_q+age_q+year_q+'?',\n",
    "            year_q.strip().capitalize()+', '+wh+ep+' may be diagnosed before '+endpoint+' in '+sex_q+age_q+'?',\n",
    "            wh.capitalize()+ep+' will '+sex_q+age_q+' have with before '+endpoint+year_q+'?',\n",
    "            year_q.strip().capitalize()+', '+wh+ep+' will '+sex_q+age_q+' have with before '+endpoint+'?'\n",
    "        ]\n",
    "    q = random.choice(q_list)    \n",
    "    a = 'prior; cox_hrs; '+', '.join(age_a+['outcome = '+endpoint]+sex_a+year_a)+'; order by risk desc limit 5'\n",
    "    \n",
    "    return input_prefix+q+input_suffix+output_prefix+a+output_suffix\n",
    "\n"
   ]
  },
  {
   "cell_type": "code",
   "execution_count": 126,
   "id": "3e6ee56c-846b-4c27-aa86-960679714425",
   "metadata": {},
   "outputs": [
    {
     "data": {
      "text/plain": [
       "['2001', '2006']"
      ]
     },
     "execution_count": 126,
     "metadata": {},
     "output_type": "execute_result"
    }
   ],
   "source": [
    "re.findall('\\d{4}','between 2001 and 2006')"
   ]
  },
  {
   "cell_type": "code",
   "execution_count": 107,
   "id": "24ed4a8f-04d1-4619-bfe4-bebd03ead31b",
   "metadata": {
    "scrolled": true,
    "tags": []
   },
   "outputs": [],
   "source": [
    "# data = [make_data1(i) for i in endpoint_list]+[make_data2(i) for i in endpoint_list]+[make_data3(i) for i in endpoint_list]\n",
    "# data_train = [count_longre(i) for i in diseases_train]+\\\n",
    "#     [aveage_longre(i) for i in diseases_train]+\\\n",
    "#     [avgage_mortality(i) for i in diseases_train]+\\\n",
    "#     [count_mortality(i) for i in diseases_train]+\\\n",
    "#     [hr_cox(i) for i in diseases_train]+\\\n",
    "#     [prior_cox(i) for i in diseases_train]\n",
    "# #     [outcome_cox(i) for i in diseases_train]+\\\n",
    "\n",
    "# data_valid = [count_longre(i) for i in diseases_valid]+\\\n",
    "#     [aveage_longre(i) for i in diseases_valid]+\\\n",
    "#     [avgage_mortality(i) for i in diseases_valid]+\\\n",
    "#     [count_mortality(i) for i in diseases_valid]+\\\n",
    "#     [hr_cox(i) for i in diseases_valid]+\\\n",
    "#     [prior_cox(i) for i in diseases_valid]\n",
    "# #     [outcome_cox(i) for i in diseases_valid]+\\\n",
    "\n",
    "# train_data= []\n",
    "# for i in data_train:\n",
    "#     question = re.findall('input: (.+) \\\\n output: ',i)[0]\n",
    "#     groups = i.split('; ')\n",
    "#     group1 = re.findall('output: (.+)',groups[0])[0]\n",
    "#     group2 = groups[1]\n",
    "#     group3 = re.sub(' \\\\n\\\\n','',groups[2])\n",
    "#     train_data.append([question, group1+'-'+group2, group3])    \n",
    "\n",
    "# valid_data = []\n",
    "# for i in data_valid:\n",
    "#     question = re.findall('input: (.+) \\\\n output: ',i)[0]\n",
    "#     groups = i.split('; ')\n",
    "#     group1 = re.findall('output: (.+)',groups[0])[0]\n",
    "#     group2 = groups[1]\n",
    "#     group3 = re.sub(' \\\\n\\\\n','',groups[2])\n",
    "#     valid_data.append([question, group1+'-'+group2, group3])    \n",
    "# # order desc is not included in this version"
   ]
  },
  {
   "cell_type": "code",
   "execution_count": 141,
   "id": "cbf0564f-ae10-41dd-9750-e48709594c8b",
   "metadata": {},
   "outputs": [],
   "source": [
    "choice_list = [count_longre, aveage_longre, avgage_mortality, count_mortality, hr_cox, prior_cox, outcome_cox]\n",
    "data = [random.choice(choice_list)(i) for i in ['diabetes']*700]\n",
    "data = list(set(data))\n",
    "\n",
    "structures = []\n",
    "for i in data:\n",
    "    question = re.findall('input: (.+) \\\\n output: ',i)[0]\n",
    "    groups = i.split('; ')\n",
    "    group1 = re.findall('output: (.+)',groups[0])[0]\n",
    "    group2 = groups[1]\n",
    "    group3 = re.sub(' \\\\n\\\\n','',groups[2])\n",
    "    structures.append([question, group1+'-'+group2, group3])    "
   ]
  },
  {
   "cell_type": "code",
   "execution_count": 351,
   "id": "eeb7bbd2-5a4b-429b-9839-ca1617fe43f5",
   "metadata": {},
   "outputs": [
    {
     "data": {
      "text/plain": [
       "684"
      ]
     },
     "execution_count": 351,
     "metadata": {},
     "output_type": "execute_result"
    }
   ],
   "source": [
    "len(structures)"
   ]
  },
  {
   "cell_type": "code",
   "execution_count": 353,
   "id": "5eedc949-5933-4f58-830e-0cdce7514821",
   "metadata": {
    "scrolled": true,
    "tags": []
   },
   "outputs": [
    {
     "data": {
      "text/plain": [
       "[['How many males less than 79 years old have been diagnosed with diabetes during 2008?',\n",
       "  'count(*)-long_registry',\n",
       "  'age < 79, endpoint = diabetes, sex = male, year = 2008'],\n",
       " ['During a 17 year period ending by 2020, how old on average age are the males who died of diabetes?',\n",
       "  'avg(age)-mortality',\n",
       "  'endpoint = diabetes, sex = male'],\n",
       " ['Prior to diabetes, what illnesses are most likely to be diagnosed in individuals after 2011?',\n",
       "  'prior-cox_hrs',\n",
       "  'outcome = diabetes, year > 2011']]"
      ]
     },
     "execution_count": 353,
     "metadata": {},
     "output_type": "execute_result"
    }
   ],
   "source": [
    "structures[:3]"
   ]
  },
  {
   "cell_type": "code",
   "execution_count": 85,
   "id": "88b3f624-b495-4a1f-90e8-146c6d192171",
   "metadata": {},
   "outputs": [
    {
     "name": "stdout",
     "output_type": "stream",
     "text": [
      "input: Before 2004, what extra risk of other and unspecified parapsoriasis in women more than 61 years old does a previous diagnosis of other diseases of anus and rectum confer? \n",
      " output: hr; cox_hrs; age > 61, outcome = other and unspecified parapsoriasis, prior = other diseases of anus and rectum, sex = female, year < 2004 \n",
      "\n",
      "\n",
      "input: In 2012, how many males from 29 to 99 are diagnosed with inflammatory disorders of breast? \n",
      " output: count(*); long_registry; age between 29 and 99, endpoint = inflammatory disorders of breast, sex = male, year = 2012 \n",
      "\n",
      "\n",
      "input: What is the average age of people who get diagnosed with type 2 diabetes for their 1st time  from 2002 to 2010? \n",
      " output: avg(age); long_registry; endpoint = type 2 diabetes, year between 2002 and 2010 \n",
      "\n",
      "\n",
      "input: During 2007, how many females are diagnosed with secondary thrombocytopenia? \n",
      " output: count(*); long_registry; endpoint = secondary thrombocytopenia, sex = female, year = 2007 \n",
      "\n",
      "\n",
      "input: What extra risk of other and unspecified erythematous conditions individuals from 13 to 60 does a previous diagnosis of benign neoplasm of retina confer? \n",
      " output: hr; cox_hrs; age between 13 and 60, outcome = other and unspecified erythematous conditions, prior = benign neoplasm of retina \n",
      "\n",
      "\n"
     ]
    }
   ],
   "source": [
    "for i in data_valid[50:55]:\n",
    "    print(i)"
   ]
  },
  {
   "cell_type": "markdown",
   "id": "685cfe9d-692c-4f8c-8ac9-3d3dc0d33a48",
   "metadata": {},
   "source": [
    "# Data augmentation\n",
    "## <font color='green'>Back translation"
   ]
  },
  {
   "cell_type": "code",
   "execution_count": 145,
   "id": "4c2626a9-15f0-4e5f-9ef8-80c74b579440",
   "metadata": {},
   "outputs": [],
   "source": [
    "questions = [i[0] for i in structures]"
   ]
  },
  {
   "cell_type": "code",
   "execution_count": 7,
   "id": "80273e06-36fa-46c7-9282-dcfb660db3b2",
   "metadata": {},
   "outputs": [
    {
     "name": "stdout",
     "output_type": "stream",
     "text": [
      "{'af': 'afrikaans', 'sq': 'albanian', 'am': 'amharic', 'ar': 'arabic', 'hy': 'armenian', 'az': 'azerbaijani', 'eu': 'basque', 'be': 'belarusian', 'bn': 'bengali', 'bs': 'bosnian', 'bg': 'bulgarian', 'ca': 'catalan', 'ceb': 'cebuano', 'ny': 'chichewa', 'zh-cn': 'chinese (simplified)', 'zh-tw': 'chinese (traditional)', 'co': 'corsican', 'hr': 'croatian', 'cs': 'czech', 'da': 'danish', 'nl': 'dutch', 'en': 'english', 'eo': 'esperanto', 'et': 'estonian', 'tl': 'filipino', 'fi': 'finnish', 'fr': 'french', 'fy': 'frisian', 'gl': 'galician', 'ka': 'georgian', 'de': 'german', 'el': 'greek', 'gu': 'gujarati', 'ht': 'haitian creole', 'ha': 'hausa', 'haw': 'hawaiian', 'iw': 'hebrew', 'he': 'hebrew', 'hi': 'hindi', 'hmn': 'hmong', 'hu': 'hungarian', 'is': 'icelandic', 'ig': 'igbo', 'id': 'indonesian', 'ga': 'irish', 'it': 'italian', 'ja': 'japanese', 'jw': 'javanese', 'kn': 'kannada', 'kk': 'kazakh', 'km': 'khmer', 'ko': 'korean', 'ku': 'kurdish (kurmanji)', 'ky': 'kyrgyz', 'lo': 'lao', 'la': 'latin', 'lv': 'latvian', 'lt': 'lithuanian', 'lb': 'luxembourgish', 'mk': 'macedonian', 'mg': 'malagasy', 'ms': 'malay', 'ml': 'malayalam', 'mt': 'maltese', 'mi': 'maori', 'mr': 'marathi', 'mn': 'mongolian', 'my': 'myanmar (burmese)', 'ne': 'nepali', 'no': 'norwegian', 'or': 'odia', 'ps': 'pashto', 'fa': 'persian', 'pl': 'polish', 'pt': 'portuguese', 'pa': 'punjabi', 'ro': 'romanian', 'ru': 'russian', 'sm': 'samoan', 'gd': 'scots gaelic', 'sr': 'serbian', 'st': 'sesotho', 'sn': 'shona', 'sd': 'sindhi', 'si': 'sinhala', 'sk': 'slovak', 'sl': 'slovenian', 'so': 'somali', 'es': 'spanish', 'su': 'sundanese', 'sw': 'swahili', 'sv': 'swedish', 'tg': 'tajik', 'ta': 'tamil', 'te': 'telugu', 'th': 'thai', 'tr': 'turkish', 'uk': 'ukrainian', 'ur': 'urdu', 'ug': 'uyghur', 'uz': 'uzbek', 'vi': 'vietnamese', 'cy': 'welsh', 'xh': 'xhosa', 'yi': 'yiddish', 'yo': 'yoruba', 'zu': 'zulu'}\n"
     ]
    }
   ],
   "source": [
    "import googletrans\n",
    "print(googletrans.LANGUAGES)"
   ]
  },
  {
   "cell_type": "code",
   "execution_count": 165,
   "id": "4c4175bd-6b72-44de-9861-ffac320596ed",
   "metadata": {},
   "outputs": [],
   "source": [
    "from googletrans import Translator\n",
    "import time"
   ]
  },
  {
   "cell_type": "code",
   "execution_count": 166,
   "id": "9d0e8347-3cf7-46a0-825f-cd3ff695c53c",
   "metadata": {
    "tags": []
   },
   "outputs": [],
   "source": [
    "def translate(sentences, src='en', dest='zh-cn'):\n",
    "    translator = Translator()\n",
    "    translator.raise_Exception = True\n",
    "    encode, decode = [], []\n",
    "    for i,t in enumerate(sentences): \n",
    "        try: \n",
    "            if (i != 0) & (i%150 == 0):\n",
    "                time.sleep(5)\n",
    "            encode.append(translator.translate(t, src=src, dest=dest).text)\n",
    "            decode.append(translator.translate(encode[-1], src=dest, dest=src).text)\n",
    "        except Exception as e: \n",
    "            print(i,e)\n",
    "            break\n",
    "    return encode, decode\n",
    "\n",
    "def eur_trans(questions, dest):\n",
    "    n = 0\n",
    "    encodes, decodes = [], []\n",
    "    while n < len(questions):\n",
    "        encode_, decode_ = translate(questions[n:],dest=dest)\n",
    "        encodes += encode_\n",
    "        decodes += decode_\n",
    "        if len(decode_) == 0:\n",
    "            print('The number of quotas reaches maximum today :(')\n",
    "            break\n",
    "        n += len(decode_)\n",
    "        print('n: ',n)\n",
    "        if n < len(questions): time.sleep(20)\n",
    "    print('This while loop is over.')\n",
    "    return encodes, decodes"
   ]
  },
  {
   "cell_type": "code",
   "execution_count": 167,
   "id": "f1f2e2b6-0faf-4d3a-ad90-f8631047a90c",
   "metadata": {},
   "outputs": [
    {
     "name": "stdout",
     "output_type": "stream",
     "text": [
      "0 'NoneType' object has no attribute 'group'\n",
      "The number of quotas reaches maximum today :(\n",
      "This while loop is over.\n"
     ]
    }
   ],
   "source": [
    "encodes_ja, decodes_ja = eur_trans(questions, 'ja')"
   ]
  },
  {
   "cell_type": "code",
   "execution_count": 235,
   "id": "66e9973d-434b-4a2a-afbd-a5e17bb7d860",
   "metadata": {},
   "outputs": [],
   "source": [
    "batch_cn, batch_fr, batch_fi, batch_it, batch_ja, batch_de = [], [], [], [], [], []\n",
    "for i in range(len(decode1)):\n",
    "    batch_cn.append([questions[i], encode1[i], decode1[i],''])\n",
    "    batch_fr.append([questions[i], encode2[i], decode2[i],''])\n",
    "    batch_fi.append([questions[i], encode3[i], decode3[i],''])\n",
    "    batch_it.append([questions[i], encode4[i], decode4[i],''])\n",
    "    batch_ja.append([questions[i], encode5[i], decode5[i],''])\n",
    "    batch_de.append([questions[i], encode6[i], decode6[i],''])"
   ]
  },
  {
   "cell_type": "code",
   "execution_count": null,
   "id": "c852b875-da3d-4a68-b5a9-a2006d55105e",
   "metadata": {},
   "outputs": [],
   "source": []
  },
  {
   "cell_type": "code",
   "execution_count": 87,
   "id": "c119c3b0-0184-433a-b041-1707858f439c",
   "metadata": {},
   "outputs": [],
   "source": [
    "import time, re\n",
    "from selenium import webdriver\n",
    "from selenium.webdriver.support.ui import Select"
   ]
  },
  {
   "cell_type": "code",
   "execution_count": 389,
   "id": "b6f32d38-d503-444e-9e86-427099fa429f",
   "metadata": {},
   "outputs": [],
   "source": [
    "# to initiate in terminal for the 1st time use\n",
    "# xattr -d com.apple.quarantine chromedriver\n",
    "driver = webdriver.Chrome('/Users/feiwang/Documents/Projects/chromedriver')"
   ]
  },
  {
   "cell_type": "code",
   "execution_count": 199,
   "id": "5ed7cfbd-e37d-44b4-95d2-cf1b1df29095",
   "metadata": {},
   "outputs": [],
   "source": [
    "def substitute(sentence):\n",
    "    return re.sub(regex,'between '+re.findall(regex,b)[0][0]+' and '+re.findall(regex,b)[0][1],sentence)\n",
    "\n",
    "def multi_translate(sentence, src_xpath, dest_xpath, translator):\n",
    "    driver.find_element_by_xpath(src_xpath).clear()\n",
    "#     if check_exists_by_xpath(delete_xpath): \n",
    "#         driver.find_element_by_xpath(delete_xpath).click()\n",
    "    driver.find_element_by_xpath(src_xpath).send_keys(sentence)\n",
    "    try:\n",
    "        if translator == 'bing': \n",
    "            time.sleep(5)\n",
    "            return driver.find_element_by_xpath(dest_xpath).get_attribute('value')\n",
    "        elif translator == 'deepl': \n",
    "            time.sleep(3)\n",
    "            return driver.find_element_by_xpath(dest_xpath).get_attribute('value')\n",
    "        else: \n",
    "            time.sleep(3)\n",
    "            return driver.find_element_by_xpath(dest_xpath).text\n",
    "    except NoSuchElementException:\n",
    "        time.sleep(5)\n",
    "        if translator in ['bing','deepl']: \n",
    "            return driver.find_element_by_xpath(dest_xpath).get_attribute('value')\n",
    "        else: return driver.find_element_by_xpath(dest_xpath).text\n",
    "\n",
    "from selenium.common.exceptions import NoSuchElementException        \n",
    "def check_exists_by_xpath(xpath):\n",
    "    try:\n",
    "        driver.find_element_by_xpath(xpath)\n",
    "    except NoSuchElementException:\n",
    "        return False\n",
    "    return True"
   ]
  },
  {
   "cell_type": "markdown",
   "id": "1c201194-3b98-4b44-ad80-193a1d542b89",
   "metadata": {},
   "source": [
    "### Youdao translate"
   ]
  },
  {
   "cell_type": "code",
   "execution_count": 152,
   "id": "866d0627-c68b-4cb5-b30c-ea9e71ff33a4",
   "metadata": {
    "tags": []
   },
   "outputs": [],
   "source": [
    "def youdao_trans(questions):\n",
    "    youdao_link = 'https://fanyi.youdao.com/'\n",
    "    trans_link = '//*[@id=\"langSelect\"]/span'\n",
    "    encode_link = '//*[@id=\"languageSelect\"]/li[3]/a'\n",
    "    decode_link = '//*[@id=\"languageSelect\"]/li[2]/a'\n",
    "    src_xpath = '//*[@id=\"inputOriginal\"]'\n",
    "    dest_xpath = '//*[@id=\"transTarget\"]/p/span'\n",
    "#     delete_xpath = '//*[@id=\"inputDelete\"]'\n",
    "\n",
    "    encodes_youdao = []\n",
    "    \n",
    "    driver.get(youdao_link)\n",
    "    \n",
    "    driver.find_element_by_xpath(trans_link).click()\n",
    "    time.sleep(1)\n",
    "    driver.find_element_by_xpath(encode_link).click()\n",
    "    \n",
    "    for i in tqdm.tqdm(questions):\n",
    "        ans = multi_translate(i,src_xpath,dest_xpath,'youdao')\n",
    "#         print(ans)\n",
    "        encodes_youdao.append(ans)\n",
    "#     encodes_youdao = [multi_translate(i,src_xpath,dest_xpath,delete_xpath) for i in questions]\n",
    "    \n",
    "#     driver.find_element_by_xpath(trans_link).click()\n",
    "#     time.sleep(2)\n",
    "#     driver.find_element_by_xpath(decode_link).click()\n",
    "    \n",
    "#     for i in tqdm.tqdm(encodes_youdao):\n",
    "#         ans = multi_translate(i,src_xpath,dest_xpath,'youdao')\n",
    "# #         print(ans)\n",
    "#         decodes_youdao.append(ans)\n",
    "# #     decodes_youdao = [multi_translate(i,src_xpath,dest_xpath,delete_xpath) for i in encodes_youdao]\n",
    "    \n",
    "    return encodes_youdao"
   ]
  },
  {
   "cell_type": "code",
   "execution_count": 262,
   "id": "7fb8e390-fafa-49ca-803d-4cd6fe798635",
   "metadata": {
    "tags": []
   },
   "outputs": [],
   "source": [
    "encodes_youdao = encodes_youdao[:105]"
   ]
  },
  {
   "cell_type": "code",
   "execution_count": 264,
   "id": "7cb75c38-2eaf-48fb-be0e-0ef5e20e5872",
   "metadata": {
    "tags": []
   },
   "outputs": [
    {
     "name": "stderr",
     "output_type": "stream",
     "text": [
      "100%|██████████| 145/145 [07:30<00:00,  3.11s/it]\n"
     ]
    }
   ],
   "source": [
    "res = youdao_trans(questions[105:250])"
   ]
  },
  {
   "cell_type": "markdown",
   "id": "e840b67b-f1ff-4363-8751-b0c7dce0bc35",
   "metadata": {},
   "source": [
    "### Bing translate"
   ]
  },
  {
   "cell_type": "code",
   "execution_count": 357,
   "id": "b21eebc1-3e0e-4566-9217-c12dd66751a6",
   "metadata": {},
   "outputs": [],
   "source": [
    "bing_link = 'https://www.bing.com/translator'\n",
    "encode_link = '//*[@id=\"tta_srcsl\"]'\n",
    "decode_link = '//*[@id=\"tta_tgtsl\"]'\n",
    "src_xpath = '//*[@id=\"tta_input_ta\"]'\n",
    "dest_xpath = '//*[@id=\"tta_output_ta\"]'\n",
    "\n",
    "driver.get(bing_link)\n",
    "Select(driver.find_element_by_xpath(encode_link)).select_by_visible_text('English')\n",
    "Select(driver.find_element_by_xpath(decode_link)).select_by_visible_text('Chinese Simplified')\n",
    "encodes_bing = [multi_translate(i,src_xpath,dest_xpath,'bing') for i in questions]\n",
    "\n",
    "Select(driver.find_element_by_xpath(encode_link)).select_by_visible_text('Chinese Simplified')\n",
    "Select(driver.find_element_by_xpath(decode_link)).select_by_visible_text('English')\n",
    "decodes_bing = [multi_translate(i,src_xpath,dest_xpath,'bing') for i in encodes_bing]"
   ]
  },
  {
   "cell_type": "code",
   "execution_count": 159,
   "id": "087c51d8-8481-483b-a768-1526e47b95fd",
   "metadata": {},
   "outputs": [
    {
     "name": "stdout",
     "output_type": "stream",
     "text": [
      "How many males less than 79 years old have been diagnosed with diabetes during 2008?\n",
      "2008年有多少79岁以下的男性被诊断出患有糖尿病？\n",
      "How many men under the age of 79 were diagnosed with diabetes in 2008?\n",
      "\n",
      "During a 17 year period ending by 2020, how old on average age are the males who died of diabetes?\n",
      "在截至2020年的17年期间，死于糖尿病的男性的平均年龄是多少？\n",
      "What is the average age of men who die of diabetes in the 17 years to 2020?\n",
      "\n",
      "Prior to diabetes, what illnesses are most likely to be diagnosed in individuals after 2011?\n",
      "在糖尿病之前，2011年以后哪些疾病最有可能在个人中诊断出来？\n",
      "Before diabetes, which diseases are most likely to be diagnosed in individuals after 2011?\n",
      "\n",
      "Frequency of individuals with diabetes below 51 years old by 2016.\n",
      "到2016年，糖尿病患者年龄在51岁以下。\n",
      "By 2016, people with diabetes are under the age of 51.\n",
      "\n",
      "Prior to diabetes, which diagnoses are most likely to be diagnosed in females over 10 years old during a 2 year period ending by 2013?\n",
      "在糖尿病之前，在截至2013年的2年期间，10岁以上的女性最有可能被诊断出糖尿病？\n",
      "Before diabetes, women over the age of 10 were most likely to be diagnosed with diabetes in the two years to 2013.\n",
      "\n"
     ]
    }
   ],
   "source": [
    "for i in range(5):#len(encodes_bing)):\n",
    "    print(questions[i])\n",
    "    print(encodes_bing[i])\n",
    "    print(decodes_bing[i])\n",
    "    print()"
   ]
  },
  {
   "cell_type": "markdown",
   "id": "500fbf9d-e846-4268-82b4-af644ae5f5a7",
   "metadata": {},
   "source": [
    "### DeepL translate"
   ]
  },
  {
   "cell_type": "code",
   "execution_count": 372,
   "id": "9f0272ca-08e9-44de-83be-cf652282abd7",
   "metadata": {},
   "outputs": [],
   "source": [
    "deepl_link = 'https://www.deepl.com/translator'\n",
    "encode_link = '//*[@id=\"dl_translator\"]/div[4]/div[4]/div[1]/div[1]/div/button'\n",
    "encode_link_en = '//*[@id=\"dl_translator\"]/div[4]/div[4]/div[1]/div[1]/div/div/button[7]'\n",
    "encode_link_cn = '//*[@id=\"dl_translator\"]/div[4]/div[4]/div[1]/div[1]/div/div/button[3]'\n",
    "encode_link_jp = '//*[@id=\"dl_translator\"]/div[4]/div[4]/div[1]/div[1]/div/div/button[15]'\n",
    "\n",
    "decode_link = '//*[@id=\"dl_translator\"]/div[4]/div[4]/div[3]/div[1]/div[2]/div[1]/button'\n",
    "decode_link_cn = '//*[@id=\"dl_translator\"]/div[4]/div[4]/div[3]/div[1]/div[2]/div[1]/div[2]/button[2]'\n",
    "decode_link_en = '//*[@id=\"dl_translator\"]/div[4]/div[4]/div[3]/div[1]/div[2]/div[1]/div[2]/button[6]'\n",
    "decode_link_jp = '//*[@id=\"dl_translator\"]/div[4]/div[4]/div[3]/div[1]/div[2]/div[1]/div[2]/button[15]'\n",
    "src_xpath = '//*[@id=\"dl_translator\"]/div[4]/div[4]/div[1]/div[2]/div[2]/textarea'\n",
    "dest_xpath = '//*[@id=\"dl_translator\"]/div[4]/div[4]/div[3]/div[3]/div[1]/textarea'"
   ]
  },
  {
   "cell_type": "code",
   "execution_count": 406,
   "id": "c5d8cc27-9743-451d-aeb6-22d06028842c",
   "metadata": {},
   "outputs": [],
   "source": [
    "encodes_deepl, decodes_deepl = [], []"
   ]
  },
  {
   "cell_type": "code",
   "execution_count": 390,
   "id": "f1a9e822-884b-4b57-98bd-4d5c44e0ac9b",
   "metadata": {},
   "outputs": [],
   "source": [
    "driver.get(deepl_link)"
   ]
  },
  {
   "cell_type": "code",
   "execution_count": 405,
   "id": "aef1e06d-9621-4bea-9bee-40d49eb60564",
   "metadata": {
    "scrolled": true,
    "tags": []
   },
   "outputs": [],
   "source": [
    "b = []\n",
    "# driver.get(deepl_link)\n",
    "# driver.find_element_by_xpath(encode_link).click()\n",
    "# driver.find_element_by_xpath(encode_link_en).click()\n",
    "# driver.find_element_by_xpath(decode_link).click()\n",
    "# driver.find_element_by_xpath(decode_link_cn).click()\n",
    "for i in questions1:\n",
    "    b.append(multi_translate(i,src_xpath,dest_xpath,'deepl'))"
   ]
  },
  {
   "cell_type": "code",
   "execution_count": 407,
   "id": "f6d7f5b4-2bc2-4843-9abd-68198cc286d7",
   "metadata": {},
   "outputs": [
    {
     "data": {
      "text/plain": [
       "100"
      ]
     },
     "execution_count": 407,
     "metadata": {},
     "output_type": "execute_result"
    }
   ],
   "source": [
    "encodes_deepl += b\n",
    "len(encodes_deepl)"
   ]
  },
  {
   "cell_type": "code",
   "execution_count": 408,
   "id": "50dff657-ed62-46ae-9293-2374d0db41ad",
   "metadata": {
    "scrolled": true,
    "tags": []
   },
   "outputs": [],
   "source": [
    "# driver.get(deepl_link)\n",
    "# driver.find_element_by_xpath(encode_link).click()\n",
    "# driver.find_element_by_xpath(encode_link_jp).click()\n",
    "# driver.find_element_by_xpath(decode_link).click()\n",
    "# driver.find_element_by_xpath(decode_link_en).click()\n",
    "b = []\n",
    "for i in encodes_deepl:\n",
    "    b.append(multi_translate(i,src_xpath,dest_xpath,'deepl'))\n",
    "decodes_deepl += b"
   ]
  },
  {
   "cell_type": "code",
   "execution_count": 410,
   "id": "d84f1675-fb84-48d4-b1e8-fc7b69f0f3bf",
   "metadata": {},
   "outputs": [
    {
     "data": {
      "text/plain": [
       "100"
      ]
     },
     "execution_count": 410,
     "metadata": {},
     "output_type": "execute_result"
    }
   ],
   "source": [
    "decodes_deepl = b \n",
    "len(decodes_deepl)"
   ]
  },
  {
   "cell_type": "code",
   "execution_count": 403,
   "id": "e29ce333-efbd-497e-a6ff-bc2f54213a2f",
   "metadata": {},
   "outputs": [
    {
     "data": {
      "text/plain": [
       "100"
      ]
     },
     "execution_count": 403,
     "metadata": {},
     "output_type": "execute_result"
    }
   ],
   "source": [
    "len(encodes_deepl)"
   ]
  },
  {
   "cell_type": "code",
   "execution_count": 413,
   "id": "1b6f52c0-26ea-41c7-a1a8-e65821686fa6",
   "metadata": {},
   "outputs": [],
   "source": [
    "decodes_deepl_jp1 = decodes_deepl\n",
    "decodes_deepl_jp += decodes_deepl\n",
    "encodes_deepl_jp1 = encodes_deepl\n",
    "encodes_deepl_jp += encodes_deepl"
   ]
  },
  {
   "cell_type": "code",
   "execution_count": 256,
   "id": "15b74c83-7dd0-41c1-a3b3-851205966064",
   "metadata": {},
   "outputs": [],
   "source": [
    "decodes_deepl_cn = decodes_deepl\n",
    "encodes_deepl_cn = encodes_deepl"
   ]
  },
  {
   "cell_type": "code",
   "execution_count": 303,
   "id": "5944f034-0d81-4e6f-a916-ec1361d28098",
   "metadata": {},
   "outputs": [],
   "source": [
    "decodes_deepl_jp = decodes_deepl\n",
    "encodes_deepl_jp = encodes_deepl"
   ]
  },
  {
   "cell_type": "markdown",
   "id": "833d939a-181e-4353-8a9d-731ed1a7109b",
   "metadata": {},
   "source": [
    "### Google translate"
   ]
  },
  {
   "cell_type": "code",
   "execution_count": 162,
   "id": "8a37765f-65b8-4cf1-948c-723b33105247",
   "metadata": {
    "collapsed": true,
    "jupyter": {
     "outputs_hidden": true
    },
    "tags": []
   },
   "outputs": [
    {
     "ename": "NameError",
     "evalue": "name 'encodes_bing_train' is not defined",
     "output_type": "error",
     "traceback": [
      "\u001b[0;31m---------------------------------------------------------------------------\u001b[0m",
      "\u001b[0;31mNameError\u001b[0m                                 Traceback (most recent call last)",
      "\u001b[0;32m<ipython-input-162-535be419c6aa>\u001b[0m in \u001b[0;36m<module>\u001b[0;34m\u001b[0m\n\u001b[1;32m     11\u001b[0m \u001b[0;32mif\u001b[0m \u001b[0mcheck_exists_by_xpath\u001b[0m\u001b[0;34m(\u001b[0m\u001b[0mconsent_xpath\u001b[0m\u001b[0;34m)\u001b[0m\u001b[0;34m:\u001b[0m\u001b[0;34m\u001b[0m\u001b[0;34m\u001b[0m\u001b[0m\n\u001b[1;32m     12\u001b[0m     \u001b[0mdriver\u001b[0m\u001b[0;34m.\u001b[0m\u001b[0mfind_element_by_xpath\u001b[0m\u001b[0;34m(\u001b[0m\u001b[0mconsent_xpath\u001b[0m\u001b[0;34m)\u001b[0m\u001b[0;34m.\u001b[0m\u001b[0mclick\u001b[0m\u001b[0;34m(\u001b[0m\u001b[0;34m)\u001b[0m\u001b[0;34m\u001b[0m\u001b[0;34m\u001b[0m\u001b[0m\n\u001b[0;32m---> 13\u001b[0;31m \u001b[0mdecodes_google_train2\u001b[0m \u001b[0;34m=\u001b[0m \u001b[0;34m[\u001b[0m\u001b[0mmulti_translate\u001b[0m\u001b[0;34m(\u001b[0m\u001b[0mi\u001b[0m\u001b[0;34m,\u001b[0m\u001b[0msrc_xpath\u001b[0m\u001b[0;34m,\u001b[0m \u001b[0mdest_xpath\u001b[0m\u001b[0;34m,\u001b[0m \u001b[0;34m'google'\u001b[0m\u001b[0;34m)\u001b[0m \u001b[0;32mfor\u001b[0m \u001b[0mi\u001b[0m \u001b[0;32min\u001b[0m \u001b[0mtqdm\u001b[0m\u001b[0;34m.\u001b[0m\u001b[0mtqdm\u001b[0m\u001b[0;34m(\u001b[0m\u001b[0mencodes_bing_train\u001b[0m\u001b[0;34m)\u001b[0m\u001b[0;34m]\u001b[0m\u001b[0;34m\u001b[0m\u001b[0;34m\u001b[0m\u001b[0m\n\u001b[0m",
      "\u001b[0;31mNameError\u001b[0m: name 'encodes_bing_train' is not defined"
     ]
    }
   ],
   "source": [
    "encode_link = 'https://translate.google.com/?sl=en&tl=zh-CN&op=translate'\n",
    "decode_link = 'https://translate.google.com/?sl=zh-CN&tl=en&op=translate'\n",
    "consent_xpath = '//*[@id=\"yDmH0d\"]/c-wiz/div/div/div/div[2]/div[1]/div[4]/form/div[1]/div/button'\n",
    "# regex = 'from ([\\d]{,2}) to ([\\d]{,2})'\n",
    "# questions_ = [substitute(i) for i in questions]\n",
    "# delete_xpath = '//*[@id=\"ow42\"]/div/span/button'\n",
    "src_xpath = '//*[@id=\"yDmH0d\"]/c-wiz/div/div[2]/c-wiz/div[2]/c-wiz/div[1]/div[2]/div[2]/c-wiz[1]/span/span/div/textarea'\n",
    "dest_xpath = '//*[@id=\"yDmH0d\"]/c-wiz/div/div[2]/c-wiz/div[2]/c-wiz/div[1]/div[2]/div[2]/c-wiz[2]/div[5]/div/div[1]/span[1]/span/span'\n",
    "\n",
    "driver.get(decode_link)\n",
    "if check_exists_by_xpath(consent_xpath):\n",
    "    driver.find_element_by_xpath(consent_xpath).click()\n",
    "decodes_google_train2 = [multi_translate(i,src_xpath, dest_xpath, 'google') for i in tqdm.tqdm(encodes_bing)]"
   ]
  },
  {
   "cell_type": "code",
   "execution_count": null,
   "id": "93881f33-896e-4ed1-b137-f866a06fcdd8",
   "metadata": {
    "tags": []
   },
   "outputs": [],
   "source": [
    "decodes_google_train1 = [multi_translate(i,src_xpath, dest_xpath, 'google') for i in encodes_youdao]"
   ]
  },
  {
   "cell_type": "markdown",
   "id": "fd4881fe-398e-455c-b714-b10b2849edd8",
   "metadata": {},
   "source": [
    "### Merge data"
   ]
  },
  {
   "cell_type": "code",
   "execution_count": 414,
   "id": "b4c24d6d-7cbb-4c29-b1dc-3e526e6a53b2",
   "metadata": {},
   "outputs": [],
   "source": [
    "structures_bt = [i for i in structures]\n",
    "for i in range(len(structures)):\n",
    "    structures_bt.append([decodes_bing[i],structures[i][1],structures[i][2]])\n",
    "    structures_bt.append([decodes_deepl_jp[i],structures[i][1],structures[i][2]])\n",
    "    structures_bt.append([decodes_deepl_cn[i],structures[i][1],structures[i][2]])\n",
    "# structures_bt = list(zip(*structures_bt))\n",
    "\n",
    "# data_df = pd.DataFrame({\n",
    "#     'x':data_bt[0], 'x_bing':decodes_fr_train, 'x_deepl_cn':decodes_it_train, 'x_deepl_ja':decodes_ja_train, \n",
    "#     'y1':data_bt[1], 'y2':data_bt[2]\n",
    "# })\n",
    "\n",
    "# random.shuffle(data_bt)"
   ]
  },
  {
   "cell_type": "code",
   "execution_count": 424,
   "id": "10d647be-61cf-4556-b347-5e71466a0514",
   "metadata": {},
   "outputs": [
    {
     "data": {
      "text/plain": [
       "562"
      ]
     },
     "execution_count": 424,
     "metadata": {},
     "output_type": "execute_result"
    }
   ],
   "source": [
    "len(diseases_valid)*2"
   ]
  },
  {
   "cell_type": "code",
   "execution_count": 422,
   "id": "7d245f85-e630-44ad-a2cd-f75a3ed54593",
   "metadata": {},
   "outputs": [],
   "source": [
    "# train_data = [[\n",
    "#     re.sub('stroke',diseases_train[i+150],re.sub('diabetes',diseases_train[i],structures_bt[i][0])),\n",
    "#     re.sub('stroke',diseases_train[i+150],re.sub('diabetes',diseases_train[i],structures_bt[i][1])),\n",
    "#     re.sub('stroke',diseases_train[i+150],re.sub('diabetes',diseases_train[i],structures_bt[i][2])),\n",
    "# ] for i in range(len(structures_bt))]\n",
    "\n",
    "train_data = []\n",
    "for i in range(len(diseases_train)*3):\n",
    "    qna = random.choice(structures_bt)\n",
    "    prior = random.choice(diseases_train)\n",
    "    q = re.sub('stroke',prior,re.sub('diabetes',(diseases_train*3)[i],qna[0]))\n",
    "    a1 = re.sub('stroke',prior,re.sub('diabetes',(diseases_train*3)[i],qna[1]))\n",
    "    a2 = re.sub('stroke',prior,re.sub('diabetes',(diseases_train*3)[i],qna[2]))\n",
    "    train_data.append([q,a1,a2])\n",
    "\n",
    "valid_data = []\n",
    "for i in range(len(diseases_valid)*3):\n",
    "    qna = random.choice(structures_bt)\n",
    "    prior = random.choice(diseases_valid)\n",
    "    q = re.sub('stroke',prior,re.sub('diabetes',(diseases_valid*3)[i],qna[0]))\n",
    "    a1 = re.sub('stroke',prior,re.sub('diabetes',(diseases_valid*3)[i],qna[1]))\n",
    "    a2 = re.sub('stroke',prior,re.sub('diabetes',(diseases_valid*3)[i],qna[2]))\n",
    "    valid_data.append([q,a1,a2])\n",
    "    \n",
    "# train_data = list(zip(*train_data)) # 7599\n",
    "# valid_data = list(zip(*valid_data)) # 843"
   ]
  },
  {
   "cell_type": "code",
   "execution_count": 435,
   "id": "fb694891-74c1-4e4b-90d2-9f96918e4db6",
   "metadata": {},
   "outputs": [],
   "source": [
    "with open('custom_data_train.txt','w') as f:\n",
    "    json.dump(train_data,f)"
   ]
  },
  {
   "cell_type": "code",
   "execution_count": 434,
   "id": "a999eddf-fe53-4232-b468-27d52633c73a",
   "metadata": {},
   "outputs": [
    {
     "data": {
      "text/plain": [
       "7599"
      ]
     },
     "execution_count": 434,
     "metadata": {},
     "output_type": "execute_result"
    }
   ],
   "source": [
    "len(train_data)"
   ]
  },
  {
   "cell_type": "code",
   "execution_count": 747,
   "id": "beadce4b-7a52-4af9-93e7-b31f6171fce3",
   "metadata": {
    "tags": []
   },
   "outputs": [],
   "source": [
    "train = list(zip(*train_data_bt))\n",
    "valid = list(zip(*valid_data_bt))\n",
    "train_X, train_y = train[0], train[1]\n",
    "valid_X, valid_y = valid[0], valid[1]"
   ]
  },
  {
   "cell_type": "code",
   "execution_count": 789,
   "id": "f4d88f8b-5dcb-48c0-802c-38451dad0216",
   "metadata": {},
   "outputs": [
    {
     "data": {
      "text/plain": [
       "2910"
      ]
     },
     "execution_count": 789,
     "metadata": {},
     "output_type": "execute_result"
    }
   ],
   "source": [
    "len(train[1])"
   ]
  },
  {
   "cell_type": "code",
   "execution_count": 792,
   "id": "9636a08f-c458-4415-b010-c0be1dfae5bc",
   "metadata": {},
   "outputs": [],
   "source": [
    "data_X = train[0] + valid[0]\n",
    "data_y = train[1] + valid[1]"
   ]
  },
  {
   "cell_type": "code",
   "execution_count": 793,
   "id": "7ba53be3-fe0d-4da8-92ca-495d2308402b",
   "metadata": {},
   "outputs": [
    {
     "data": {
      "text/plain": [
       "3228"
      ]
     },
     "execution_count": 793,
     "metadata": {},
     "output_type": "execute_result"
    }
   ],
   "source": [
    "len(data_X)"
   ]
  },
  {
   "cell_type": "code",
   "execution_count": 794,
   "id": "4e0034e4-cbd4-4623-911a-84f2f97dcbe5",
   "metadata": {},
   "outputs": [],
   "source": [
    "data_len = [*range(len(data_X))]"
   ]
  },
  {
   "cell_type": "code",
   "execution_count": 868,
   "id": "6711c677-ae73-4bf0-a75a-6edd63d5b341",
   "metadata": {
    "tags": []
   },
   "outputs": [],
   "source": [
    "passed_endpoints = []\n",
    "passed_indice = []\n",
    "failed_indice = []\n",
    "\n",
    "for i in data_X:\n",
    "    sub_endpoints = []\n",
    "    for j in diseases:\n",
    "        if j in i.lower():\n",
    "            sub_endpoints.append(j)\n",
    "    if len(sub_endpoints) == 0:\n",
    "        failed_indice.append(data_X.index(i))\n",
    "    else:\n",
    "        passed_endpoints.append(sub_endpoints)\n",
    "        passed_indice.append(data_X.index(i))"
   ]
  },
  {
   "cell_type": "code",
   "execution_count": 866,
   "id": "97f19703-eab8-4a45-8c15-67fa7a8bc356",
   "metadata": {},
   "outputs": [],
   "source": [
    "# index_failed = [i for i in endpoints if type(i) == int]\n",
    "# index_passed = [i for i in endpoints if type(i) == str] #list(set(data_len) - set(index_failed))"
   ]
  },
  {
   "cell_type": "code",
   "execution_count": 867,
   "id": "df32e236-c46f-4c3c-be26-65967f393713",
   "metadata": {},
   "outputs": [
    {
     "data": {
      "text/plain": [
       "True"
      ]
     },
     "execution_count": 867,
     "metadata": {},
     "output_type": "execute_result"
    }
   ],
   "source": [
    "len(endpoints) == len(data_X)"
   ]
  },
  {
   "cell_type": "code",
   "execution_count": 869,
   "id": "35de05b0-9c99-43ef-8a91-4175f9602ec6",
   "metadata": {},
   "outputs": [],
   "source": [
    "trainx = [data_X[i] for i in passed_indice]\n",
    "trainy1 = [data_y[i] for i in passed_indice]\n",
    "trainy2 = [passed_endpoints[passed_indice.index(i)] for i in passed_indice]\n",
    "\n",
    "validx = [data_X[i] for i in failed_indice]\n",
    "validy1 = [data_y[i] for i in failed_indice]"
   ]
  },
  {
   "cell_type": "code",
   "execution_count": 873,
   "id": "b1b95272-1aa8-42a7-aaf1-b91bb2581657",
   "metadata": {},
   "outputs": [],
   "source": [
    "trainx = [re.sub('in people','in the population',i) if 'in people' in i else i for i in trainx]\n",
    "validx = [re.sub('in people','in the population',i) if 'in people' in i else i for i in validx]"
   ]
  },
  {
   "cell_type": "code",
   "execution_count": 888,
   "id": "3e5fdfb3-b37b-4b59-85d8-d65967e5ab06",
   "metadata": {},
   "outputs": [],
   "source": [
    "with open('custom_data.json','w') as f:\n",
    "    json.dump({'train_X':trainx,'train_y1':trainy1,'train_y2':trainy2,'valid_X':validx,'valid_y1':validy1},f)"
   ]
  },
  {
   "cell_type": "code",
   "execution_count": 824,
   "id": "f129041c-e3b6-4bdb-8c25-27f4dc9ad13d",
   "metadata": {},
   "outputs": [
    {
     "data": {
      "text/plain": [
       "3228"
      ]
     },
     "execution_count": 824,
     "metadata": {},
     "output_type": "execute_result"
    }
   ],
   "source": [
    "len(endpoints)"
   ]
  },
  {
   "cell_type": "code",
   "execution_count": 897,
   "id": "425d4eb2-36dc-496e-a5c4-39b37b84367a",
   "metadata": {},
   "outputs": [
    {
     "data": {
      "text/plain": [
       "10"
      ]
     },
     "execution_count": 897,
     "metadata": {},
     "output_type": "execute_result"
    }
   ],
   "source": [
    "trainx.index('How many men are at age 18 after they were diagnosed with Ebola virus disease?')"
   ]
  },
  {
   "cell_type": "code",
   "execution_count": null,
   "id": "89c2fbef-fecd-4d41-b92f-7aae72ba9dbb",
   "metadata": {},
   "outputs": [],
   "source": [
    "# Which diseases may be diagnosed before heart failure for females from 10 to 95 from 2018 to 2019?"
   ]
  },
  {
   "cell_type": "code",
   "execution_count": 886,
   "id": "cdb1c83c-75de-4054-8633-0fe1c98066e6",
   "metadata": {},
   "outputs": [],
   "source": [
    "trainx = trainx[:43]+[\"What diseases can I have diagnosed before heart failure if I'm a female from 10-95 years old in 2018-2019?\"]+trainx[44:]"
   ]
  },
  {
   "cell_type": "code",
   "execution_count": 841,
   "id": "05c31053-8230-47fd-aa7b-b3532ae886dc",
   "metadata": {},
   "outputs": [
    {
     "data": {
      "text/plain": [
       "['duloxetine']"
      ]
     },
     "execution_count": 841,
     "metadata": {},
     "output_type": "execute_result"
    }
   ],
   "source": [
    "endpoints[960]"
   ]
  },
  {
   "cell_type": "code",
   "execution_count": 890,
   "id": "6ddd4604-fb06-4eb6-b100-93a68a7cb741",
   "metadata": {},
   "outputs": [
    {
     "data": {
      "text/plain": [
       "['alcohol-related liver disease', \"addison's disease\", 'liver disease']"
      ]
     },
     "execution_count": 890,
     "metadata": {},
     "output_type": "execute_result"
    }
   ],
   "source": [
    "trainy2[960]"
   ]
  },
  {
   "cell_type": "code",
   "execution_count": 891,
   "id": "7f4a89a1-6daa-46d6-abcd-f725139e8178",
   "metadata": {},
   "outputs": [],
   "source": [
    "import pandas as pd"
   ]
  },
  {
   "cell_type": "code",
   "execution_count": 894,
   "id": "6913a64b-a031-4f12-ab8b-df6241136859",
   "metadata": {},
   "outputs": [],
   "source": [
    "train_data = pd.DataFrame({'train_X':trainx,'train_y1':trainy1,'train_y2':trainy2})\n",
    "valid_data = pd.DataFrame({'valid_X':validx,'valid_y1':validy1})"
   ]
  },
  {
   "cell_type": "code",
   "execution_count": 895,
   "id": "d0c84afb-b42b-4cf8-a526-1fdb681690fb",
   "metadata": {},
   "outputs": [],
   "source": [
    "def save_xls(list_dfs, xls_path):\n",
    "    with pd.ExcelWriter(xls_path) as writer:\n",
    "        for n, df in enumerate(list_dfs):\n",
    "            df.to_excel(writer,'sheet%s' % n)\n",
    "        writer.save()"
   ]
  },
  {
   "cell_type": "code",
   "execution_count": 896,
   "id": "2d9f2453-6a63-481b-b89a-c1257a03b7a9",
   "metadata": {},
   "outputs": [],
   "source": [
    "save_xls([train_data,valid_data], 'custom_data.xlsx')"
   ]
  },
  {
   "cell_type": "code",
   "execution_count": 933,
   "id": "f06608a0-d127-402f-919f-9afb68f32b82",
   "metadata": {},
   "outputs": [],
   "source": [
    "save_xls([train_df,valid_df], 'custom_data_bt.xlsx')"
   ]
  },
  {
   "cell_type": "code",
   "execution_count": 940,
   "id": "e9f35281-f8c4-4d35-943c-64c397d10c82",
   "metadata": {},
   "outputs": [
    {
     "data": {
      "text/plain": [
       "485"
      ]
     },
     "execution_count": 940,
     "metadata": {},
     "output_type": "execute_result"
    }
   ],
   "source": [
    "len(train_df)"
   ]
  },
  {
   "cell_type": "code",
   "execution_count": null,
   "id": "413723bb-1602-44a6-85df-c07ac2854b39",
   "metadata": {},
   "outputs": [],
   "source": [
    "disease_name changed, "
   ]
  },
  {
   "cell_type": "code",
   "execution_count": 951,
   "id": "40008bf5-b9f7-4d72-a6ea-fd9ce6332676",
   "metadata": {},
   "outputs": [],
   "source": [
    "train_datalist_copy = train_datalist"
   ]
  },
  {
   "cell_type": "code",
   "execution_count": 941,
   "id": "25985c30-8a22-4e9d-9c4e-807ab539bb32",
   "metadata": {},
   "outputs": [],
   "source": [
    "train_datalist=[]"
   ]
  },
  {
   "cell_type": "code",
   "execution_count": 1035,
   "id": "34d8bd91-898e-48f3-8f91-e31f92166145",
   "metadata": {},
   "outputs": [
    {
     "data": {
      "text/plain": [
       "[\"What is the average age of women who died after alzheimer's disease diagnosis?\",\n",
       " \"What is the average age of women deceased after the diagnosis of Alzheimer's disease?\",\n",
       " \"What is the average age of women who died after the diagnosis of Alzheimer's disease?\",\n",
       " \"What is the average age of died women after diagnosing Alzheimer's disease?\",\n",
       " \"What is the average age of women who die after being diagnosed with Alzheimer's disease?\",\n",
       " \"How old is the average age of women who died after the diagnosis of Alzheimer's disease?\",\n",
       " 'avg(age)-mortality',\n",
       " \"cut_year = 0, endpoint = alzheimer's disease, sex = female\"]"
      ]
     },
     "execution_count": 1035,
     "metadata": {},
     "output_type": "execute_result"
    }
   ],
   "source": [
    "train_df.iloc[32,:].tolist() # not yet"
   ]
  },
  {
   "cell_type": "code",
   "execution_count": 1053,
   "id": "45987658-bbfd-4e06-a36a-6b9b6c69d162",
   "metadata": {},
   "outputs": [],
   "source": [
    "data_list = [train_df.iloc[i,:].tolist() for i in range(32,len(train_df))]\n",
    "# data_list"
   ]
  },
  {
   "cell_type": "code",
   "execution_count": 1050,
   "id": "f963808a-705d-4481-b367-3f3713a9d38b",
   "metadata": {},
   "outputs": [
    {
     "data": {
      "text/plain": [
       "[['Given mebendazole, what are the strongest associated comorbidities for women over 58 years old between 2019 and 2020?',\n",
       "  'Give Mebendazole, what are the strongest comorbidities associated with women over 58 between 2019 and 2020?',\n",
       "  'Given Mebendazole, what are the strongest associated comorbidities for women over 58 years between 2019 and 2020?',\n",
       "  'Considering Mebendazole, what is the strongest related labor force for women over 58 years or older between 2019 and 2020?',\n",
       "  'Given Mebendazor, what is the strongest correlation among women over the age of 58 between 2019 and 2020?',\n",
       "  \"During 2016 to 2020, how is the average age of 29-year-old children's first fever?\",\n",
       "  'outcome-cox_hrs',\n",
       "  'age > 58, prior = mebendazole, sex = female, year between 2019 and 2020'],\n",
       " ['How many individuals under 73 years old died one year after fentanyl diagnosis?',\n",
       "  'How many people under 73 years old died one year after the diagnosis of fentanyl?',\n",
       "  'How many individuals under the age of 73 have died a year after the diagnosis of Fentanyl?',\n",
       "  'What was the number of individuals under the age of 73 died one year after the diagnosis of fentanyl?',\n",
       "  'How many people under the age of 73 die a year after fentanyl diagnosis?',\n",
       "  'How many people under the age of 73 after a diagnosis of fentanyl?',\n",
       "  'count(*)-mortality',\n",
       "  'age < 73, cut_year = 1, endpoint = fentanyl'],\n",
       " ['Which diseases may be diagnosed before domperidone for women between 50 and 91 between 2016 and 2017?',\n",
       "  'What diseases can be diagnosed before domperidone for women between 50 and 91 between 2016 and 2017?',\n",
       "  'What diseases can be diagnosed before domperidone for women between 50 and 91 between 2016 and 2017?',\n",
       "  'Which disease may be diagnosed before Domperidone for women between 50 and 91 between 2016 and 2017?',\n",
       "  'What diseases can women aged 50 to 91 be diagnosed before Domberone between 2016 and 2017?',\n",
       "  'During 2016 to 2017, women from 50 to 91 years old can diagnose what diseases can be diagnosed before Dompetone?',\n",
       "  'prior-cox_hrs',\n",
       "  'age between 50 and 91, outcome = domperidone, sex = female, year between 2016 and 2017'],\n",
       " ['What is the mean age of men who died after azithromycin diagnosis?',\n",
       "  'What is the average age of men who died after the diagnosis of azithromycin?',\n",
       "  \"What is the average age of men who died after azithromycin's diagnosis?\",\n",
       "  'What is the average age of men who died after azithromycin diagnosis?',\n",
       "  'What is the average age of men who die after a diagnosis of azithromycin?',\n",
       "  'What is the average age of men who died after azithromycin diagnosis?',\n",
       "  'avg(age)-mortality',\n",
       "  'cut_year = 0, endpoint = azithromycin, sex = male'],\n",
       " ['How many women above 6 years old died 15 years after they diagnosed with varenicline?',\n",
       "  'How many women over 6 years old died 15 years after their verenicine diagnosis?',\n",
       "  'How many women over the age of 6 died 15 years after diagnosing with Varenicline?',\n",
       "  'What is the number of women over 6 years old who die after 15 years after being diagnosed with VarenicLine?',\n",
       "  'How many women over the age of 6 die 15 years after being diagnosed with varicose veins?',\n",
       "  'How many women over 6 years old have died after being diagnosed with varicose # 15 years?',\n",
       "  'count(*)-mortality',\n",
       "  'age > 6, cut_year = 15, endpoint = varenicline, sex = female']]"
      ]
     },
     "execution_count": 1050,
     "metadata": {},
     "output_type": "execute_result"
    }
   ],
   "source": [
    "[valid_df.iloc[18,:].tolist(),valid_df.iloc[19,:].tolist(),valid_df.iloc[20,:].tolist(),valid_df.iloc[21,:].tolist(),valid_df.iloc[22,:].tolist()]"
   ]
  },
  {
   "cell_type": "code",
   "execution_count": null,
   "id": "0e34eff9-0005-4881-b9f9-0151bb62c06c",
   "metadata": {},
   "outputs": [],
   "source": [
    "'How many women between 1 and 56 have been diagnosed with corona virus?',\n",
    "  'How many women aged from 1 to 56 are suffering from corona virus?',\n",
    "  'What is the number of women between 1 and 56 diagnosed with corona virus?',\n",
    "  'How many women are diagnosed corona virus if they are between 1 year old and 56 years old?',\n",
    "  'How many women between the ages of 1 and 56 are diagnosed with overeating?',\n",
    "  'How many women from 1 to 56 were diagnosed as corona virus?',"
   ]
  },
  {
   "cell_type": "code",
   "execution_count": null,
   "id": "2fcbf4c9-43ce-45c4-850e-c308f4969a87",
   "metadata": {},
   "outputs": [],
   "source": [
    "'What is the average age at the first event of paracetamol among individuals below 7 years old in 2016?',\n",
    "  'What is the average age for the first paracetamol event among children under 7 in 2016?',\n",
    "  'In 2016, what is the average age at the first paracetamol event in kids under 7 years old?',\n",
    "  \"During 2016, what's the mean age for first Paracetamor diagnosis for children under 7 years old?\",\n",
    "  'What is the average age of children below the age of 7 when they had first paracetamol diagnosis in 2016?',\n",
    "  'What is the average age of children below 7 years old who got paracetamol for the first time in 2016?',\n",
    "  'avg(age)-long_registry',\n",
    "  'age < 7, endpoint = paracetamol, year = 2016'],"
   ]
  },
  {
   "cell_type": "code",
   "execution_count": 1049,
   "id": "c4fd8cee-3093-4ff6-966f-88ec9c28a7ca",
   "metadata": {},
   "outputs": [],
   "source": [
    "this = [\n",
    "['What is the hazard ratio of chloramphenicol for those females above 67 years old who had diazepam?',\n",
    "  'If my patient is above 67 having diazepam. What is her risk ratio of chloramphenicol?',\n",
    "  'If my patient is above 67 and was diagnosed with diazepam. What is her risk ratio of having chloramphenicol??',\n",
    "  'What is the hazard ratio of chloramphenicol diagnosis if my patient is above 67 and was diagnosed with diazepam?',\n",
    "  'What is the risk ratio of having chloramphenicol if I am above 67 years old with diazepam?',\n",
    "  'For women with diazepam and over 67 years old, what is the risk ratio of chloramphenicol?',\n",
    "  'hr-cox_hrs',\n",
    "  'age > 67, outcome = chloramphenicol, prior = diazepam, sex = female'],\n",
    " ['What is the hazard ratio of irritable bowel syndrome in ibs given heparinoid for individuals over 89 years old between 2010 and 2011?',\n",
    "  'What is the danger ratio of irritable intestine syndrome at IBS given the heparinoid for people over 89 between 2010 and 2011?',\n",
    "  'between 2010 and 2011, What is the danger relationship of irritable bowel syndrome in IBS given eparinoid for individuals over 89 years between 2010 and 2011?',\n",
    "  'What is the hazard ratio of IBS hypertherminal syndrome given heparinoids for individuals over 89 in the year of 2010 and 2011?',\n",
    "  'Between 2010 and 2011, for people over the age of 89, what is their risk ratio of having irritable bowel syndrome in ibs after they have heparinoid?',\n",
    "  'For seniors over 67 years old, what is the risk ratio of having irritable bowel syndrome in ibs if they have heparinoid??',\n",
    "  'hr-cox_hrs',\n",
    "  'age > 89, outcome = irritable bowel syndrome in ibs, prior = heparinoid, year between 2010 and 2011'],\n",
    " ['What is the hazard ratio of clobetasone for those men above 96 years old who had tramadol in 2009?',\n",
    "  'What is the danger ratio of Clobésone for old men over 96 who had Tramadol in 2009?',\n",
    "  \"What's the risk ratio of Clobetasone if I have Tramadol in 2009? I'm an old man above 96\",\n",
    "  'What is the hazard ratio of Clobetasone given Tramador during 2009? He is over 96 years old?',\n",
    "  'What is the risk ratio of Clobetasone to men over the age of 96 who had cumado in 2009?',\n",
    "  'He is older than 96 years old in 2009, so what is his hazard ratio of clobetasone if he has tramadol already?',\n",
    "  'hr-cox_hrs',\n",
    "  'age > 96, outcome = clobetasone, prior = tramadol, sex = male, year = 2009'],\n",
    " ['Given leg cramps, what are the top 6 strongest associated complications for people over 55 years old before 2014?',\n",
    "  'If my patients are above 55. What are the 6 strongest complications associated with leg cramps before 2014?',\n",
    "  'Given leg cramps, what are the first 6 strongest complications associated with people over 55 years before 2014?',\n",
    "  'What is the strongest relevant complications of leg cramps by 2014 if we are over 55 years old?',\n",
    "  'Given leg cramps, what are the top 6 related complications by 2014? We are some people over the age of 55.',\n",
    "  'What is the risk ratio of leg cramps by 2014 if my patients are all above 55 years old?',\n",
    "  'outcome-cox_hrs',\n",
    "  'age > 55, prior = leg cramps, year < 2014'],\n",
    " ['What is the mean age at the first event of fever between 2016 and 2020?',\n",
    "  'What is the average age at the first fever event between 2016 and 2020?',\n",
    "  'between 2016 and 2020, What is the average age for the first fever diagnosis between 2016 and 2020?',\n",
    "  \"between 2016 and 2020, What's the average age for the first fever diagnosis?\",\n",
    "  'how old on average are these people when they had first paracetamol diagnosis between 2016 and 2020?',\n",
    "  \"During 2016 to 2020, how old are these patients who had their first fever diagnosis?\",\n",
    "  'avg(age)-long_registry',\n",
    "  'endpoint = fever, year between 2016 and 2020']\n",
    "]\n",
    "train_datalist += this"
   ]
  },
  {
   "cell_type": "code",
   "execution_count": null,
   "id": "ca195c86-49a5-470f-ae58-90be75c8fd91",
   "metadata": {},
   "outputs": [],
   "source": [
    "'What is the average age of men who died 5 years after obstructive sleep apnoea diagnosis?',\n",
    "  'What is the average age of men who died 5 years after the diagnosis of obstructive sleep apnea?',\n",
    "  \"What's males's average life expectancy 5 years after their first diagnosis of obstructive sleep apnoea?\",\n",
    "  \"What's the average life expectancy of men after a five-year survival of obstructive sleep apnoea?\",\n",
    "  'What is the average age of men who died after a five year survival of obstructive sleep apnea?',\n",
    "  'What is the average age of men who die five years after diagnosis of obstructive sleep apnea?',\n",
    "  'How old is the average age of men in obstructive sleep apnea after 5 years?',\n",
    "\n",
    "'On average, how old are these women who died 5 years after pseudoqualine diagnosis?',"
   ]
  },
  {
   "cell_type": "code",
   "execution_count": 1054,
   "id": "9b941e7e-0a8a-4971-a2e9-e23ce859bf3d",
   "metadata": {},
   "outputs": [],
   "source": [
    "with open('custom_data_bt.json','w') as f:\n",
    "    json.dump(train_datalist,f)"
   ]
  },
  {
   "cell_type": "code",
   "execution_count": 1023,
   "id": "9008f426-e2ad-4262-9d39-bd118d94fc19",
   "metadata": {},
   "outputs": [],
   "source": [
    "train_datalist = train_datalist[:-1]"
   ]
  },
  {
   "cell_type": "code",
   "execution_count": 1003,
   "id": "4b6168ec-bbfa-4bea-88ef-9c541737ac82",
   "metadata": {},
   "outputs": [],
   "source": [
    "train_datalist = [['What are the top 5 comorbidities for males between 13 and 93 between 2002 and 2012 given clarithromycin?',\n",
    "  'What are the 5 main comorbidities for men between 13 and 93 between 2002 and 2012 if they have clarithromycin?',\n",
    "  'During 2002 and 2012, what are the first 5 comorbidities for males between 13 and 93 who have Claritromycin?',\n",
    "  'Between 2002 and 2012, what is the top 5 diseases if a male aged from 13 to 93 years old has clarithromycin?',\n",
    "  'What were the five combinations of clarithromycin for those men aged 13 to 93 between 2002 and 2012?',\n",
    "  'From 2002 to 2012, what is the five main prolblems for males having clarithromycin, given age range between 13 and 93?',\n",
    "  'outcome-cox_hrs',\n",
    "  'age between 13 and 93, prior = clarithromycin, sex = male, year between 2002 and 2012'],\n",
    " ['Which diseases may be diagnosed before budesonide rectal foam and enemas for men at 36 years old after 2019?',\n",
    "  'What diseases can be diagnosed before the rectal foam of budesonide among males  at age 36 after 2019?',\n",
    "  'After 2019, what diseases can be diagnosed for those men at 36 years who already have rectal foam of Budesonide and enemies?',\n",
    "  'Which disease may be diagnosed before budesonide rectal foam and enema for 36-year-old men since 2019?',\n",
    "  'What diseases can be diagnosed before budson rectal foam and enemas in the male population aged 36 after 2019?',\n",
    "  'Which diseases can be diagnosed since 2019 for a 36-year-old male with rectal foam of Budesonide and enemies?',\n",
    "  'prior-cox_hrs',\n",
    "  'age = 36, outcome = budesonide rectal foam and enemas, sex = male, year > 2019'],\n",
    " ['What is the average age of women who died after letrozole diagnosis?',\n",
    "  'What is the average age of women deceased after the diagnosis of letrozole?',\n",
    "  'What is the average age of women who died after the diagnosis of Letrozole?',\n",
    "  'How old on average are women who died after letrozole?',\n",
    "  'What is the average age of women who died after letrozole?',\n",
    "  'On average, how old is a woman who died of the diagnosis of letrozole?',\n",
    "  'avg(age)-mortality',\n",
    "  'cut_year = 0, endpoint = letrozole, sex = female'],\n",
    " ['How many women above 70 years old have been diagnosed with flatulence?',\n",
    "  'How many women older than 70 have been diagnosed with flatulence?',\n",
    "  'How many women over 70 are diagnosed with flatulence?',\n",
    "  'What is the number of women over 70 years old diagnosed with the flatulence?',\n",
    "  'How many women over the age of 70 got flatulence?',\n",
    "  'How many women over 70 years old suffer from flatulence?',\n",
    "  'count(*)-long_registry',\n",
    "  'age > 70, endpoint = flatulence, sex = female'],\n",
    " ['What is the hazard ratio of osteoporosis given ewing sarcoma for children under 9 years old after 2018?',\n",
    "  \"What's the risk of osteoporosis given to Ewing Sarcoma among children under 9 years after 2018?\",\n",
    "  'What is the risk ratio of osteoporosis if a kid under 9 diagnosed with ewing sarcoma after 2018?',\n",
    "  'What is the hazard ratio of osteoporosis given the diagnosis of ewing sarcoma for nine-year-old people since 2018?',\n",
    "  'After 2018, what is the risk of osteoporosis in children under 9 years old given ewing sarcoma?',\n",
    "  'After 2018, how risky is osteoporosis for kids under the age of 9 if they have ewing sarcoma?',\n",
    "  'hr-cox_hrs',\n",
    "  'age < 29, outcome = osteoporosis, prior = ewing sarcoma, year > 2018'],\n",
    " ['Which diseases may be diagnosed before salbutamol inhaler for men below 66 years old between 2003 and 2008?',\n",
    "  'In year 2003-2008, what diseases can be diagnosed before the Salbutamol inhaler in men under 66?',\n",
    "  'What diseases can be diagnosed before Salbutamol inhaler for men under 66 between 2003 and 2008?',\n",
    "  'Regarding to the men younger than 66 years old, which disease may be diagnosed before the Salbutamol inhaler from 2003 to 2008?',\n",
    "  'What diseases could men under the age of 66 get diagnosed before they had inhaling salbutamol between 2003 and 2008?',\n",
    "  'From 2003 to 2008, what diseases can be diagnosed before salbutamol inhaler for males younger than the age of 66?',\n",
    "  'prior-cox_hrs',\n",
    "  'age < 66, outcome = salbutamol inhaler, sex = male, year between 2003 and 2008'],\n",
    " ['How many males over 69 years old have been diagnosed with lisinopril before 2018?',\n",
    "  'How many men over 69 were diagnosed with Lisinopril before 2018?',\n",
    "  'How many males above 69 have been diagnosed with Lisinopril before 2018?',\n",
    "  'What is the number of men over 69 years old before 2018 who have been diagnosed with Lisinopril?',\n",
    "  'How many men over the age of 69 got diagnosed with lisinopril by 2018?',\n",
    "  'Before 2018, how many men over 69 years old were diagnosed with lisinopril?',\n",
    "  'count(*)-long_registry',\n",
    "  'age > 69, endpoint = lisinopril, sex = male, year < 2018'],\n",
    " ['What is the mean age of men when they died after autistic spectrum disorder?',\n",
    "  'What is the average age of men who deseased after an autistic spectrum disorder diagnosis?',\n",
    "  'What is the average age of men who died after the diagnosis of autistic spectrum disturbance?',\n",
    "  'What is the average age of men who died with ASD?',\n",
    "  'How old on average age are the men who died of Asd diagnosis?',\n",
    "  'What is age on average for those males who died with autistic spectrum disorder?',\n",
    "  'avg(age)-mortality',\n",
    "  'cut_year = 0, endpoint = autistic spectrum disorder, sex = male'],\n",
    " ['How many men between 20 and 21 died 5 years after they diagnosed with aciclovir?',\n",
    "  'How many men aged from 20 to 21 has died 5 years after their diagnosis of aciclovir?',\n",
    "  'How many men between 20 and 21 years have died 5 years after they got aciclovir?',\n",
    "  'What is the number of 20-year-old men and 21-year-old men who died five years after being diagnosed with Acyclovir?',\n",
    "  'How many men between the ages of 20 and 21 die five years after being diagnosed with acetic acid?',\n",
    "  'How many men from 20 to 21 years old have died after being diagnosed with acetic acid for 5 years?',\n",
    "  'count(*)-mortality',\n",
    "  'age between 20 and 21, cut_year = 5, endpoint = aciclovir, sex = male'],\n",
    " ['How many women under 72 years old have been diagnosed with prednisolone?',\n",
    "  'How many women under 72 have been diagnosed with prednisolone?',\n",
    "  'How many women under 72 have been diagnosed with prednisolone?',\n",
    "  'What is the number of women under 72 years old are diagnosed with prednisolone?',\n",
    "  'How many women under the age of 72 have been diagnosed with Plinysoron?',\n",
    "  'How many women under 72 years old are diagnosed with Pulinielon?',\n",
    "  'count(*)-long_registry',\n",
    "  'age < 72, endpoint = prednisolone, sex = female'],\n",
    " ['What is the average age of men who died 5 years after liver tumours diagnosis?',\n",
    "  \"After the diagnosis of liver tumors, what's the mean age of men who survived for another 5 years?\",\n",
    "  'What is the average age of men who died of the diagnosis of liver tumors after five-year survival?',\n",
    "  'After a five-year survival, what is the average age of men who died of liver tumors?',\n",
    "  'What is the average age of men who die of liver tumors 5 years after their first diagnosis?',\n",
    "  'For those men who died 5 years after the first event of liver tumors, what is their mean age?',\n",
    "  'avg(age)-mortality',\n",
    "  'cut_year = 5, endpoint = liver tumours, sex = male'],\n",
    " ['Which diseases may be diagnosed before sildenafil for men at 11 years old?',\n",
    "  'For 11-year-old kids, what diseases can be diagnosed first if they later get diagnosed with sildenafil?',\n",
    "  'My patient is 11 years old. What diseases can he have before being diagnosed with Sildenafil?',\n",
    "  'My little patient is 11 years old with sildenafil. Which diseases may he have before that?',\n",
    "  'What diseases can be diagnosed before sildenafil if I have a boy at 11-year-old?',\n",
    "  'What diseases can I diagnose before sildenafil if I am an 11-year-old male?',\n",
    "  'prior-cox_hrs',\n",
    "  'age = 11, outcome = sildenafil, sex = male'],\n",
    " ['What is the mean age of males who died 15 years after urinary tract infection diagnosis?',\n",
    "  \"After the diagnosis of urinary tract infection, what's the mean age of men who have survived for another 15 years?\",\n",
    "  \"What is the average age of men who deseased 15 years after an urinary tract infection?\",\n",
    "  'On average, what is the average age of men who died of the diagnosis of urinary tract infection after a survival of fifteen years?',\n",
    "  'What is the average age of men who stay alive for 15 years after they are diagnosed with urinary tract infection?',\n",
    "  'How old on average age are men who died after 15 years of urinary tract infection?',\n",
    "  'avg(age)-mortality',\n",
    "  'cut_year = 15, endpoint = urinary tract infection, sex = male'],\n",
    " ['Which diseases may be diagnosed before diabetes for females under 31 years old after 2013?',\n",
    "  'Since 2013, what diseases can women under 31 get diagnosed if they have diabetes later?',\n",
    "  'After 2013, what diseases can be diagnosed for females under 31 years old if later they are diagnosed with diabetes?',\n",
    "  \"Which disease may be diagnosed before women's diabetes under 31 years of age after 2013?\",\n",
    "  'Before diabetes, what diseases could be diagnosed in women under the age of 31 after 2013?',\n",
    "  'I am female below 31. After 2013, what diseases I may have if some time later I find I have diabetes?',\n",
    "  'prior-cox_hrs',\n",
    "  'age < 31, outcome = diabetes, sex = female, year > 2013'],\n",
    " [\"What's the hazard ratio of headaches for those women below 41 years old who had vertigo between 2005 and 2019?\",\n",
    "  'Between 2005 and 2019, what is the danger ratio of headaches if a women under the age of 41 already had Vertigo?',\n",
    "  'What is the danger of headache for those women under 41 years who had vertigo between 2005 and 2019?',\n",
    "  'Given vertigo, what is the danger ratio of headaches for women younger 41 from 2005 to 2019?',\n",
    "  'What is the risk of headaches among women under the age of 41 who have dizziness between 2005 and 2019?',\n",
    "  \"What is the dangerous ratio of women's headaches if they are under the 41 years old and dizzy during 2005 to 2019?\",\n",
    "  'hr-cox_hrs',\n",
    "  'age < 41, outcome = headaches, prior = vertigo, sex = female, year between 2005 and 2019'],\n",
    " [\"What's the number of people below 72 years old if they died 5 years after nasal and sinus cancer diagnosis?\",\n",
    "  'How many people under 72 years old died after they suffered 5 years from nasal and sinus cancer?',\n",
    "  'How many individuals under 72 have died 5 years after the diagnosis of nasal and breast cancer?',\n",
    "  'What was the number of individuals under 72 years old who died five years after the diagnosis of the nose and the sinus cancer?',\n",
    "  'What is the death toll of nasal and sinus cancer if these patients are younger than 72 and have survived for 5 years?',\n",
    "  'How many people under 72 years of age died 5 years after diagnosis of sinus cancer?',\n",
    "  'count(*)-mortality',\n",
    "  'age < 72, cut_year = 5, endpoint = nasal and sinus cancer'],\n",
    " ['How many individuals under 30 years old have been diagnosed with hyperglycaemia in high blood sugar in 2020?',\n",
    "  'How many people under 30 were diagnosed with hyperglycemia in high blood glucose in 2020?',\n",
    "  'How many individuals under the age of 30 were diagnosed with hyperglycemia in high blood sugar in 2020?',\n",
    "  'What is the number of persons who were under 30 and were diagnosed with hyperglycemia in 2020?',\n",
    "  'During 2020, how many people below the age of 30 got diagnosed with hyperglycemia?',\n",
    "  'Do you know how many people in 2020 have been diagnosed with high blood sugar if they are younger than 30?',\n",
    "  'count(*)-long_registry',\n",
    "  'age < 30, endpoint = hyperglycaemia in high blood sugar, year = 2020'],\n",
    " [\"What's the average age of individuals who died 15 years after tuberculosis in tb diagnosis?\",\n",
    "  \"After bing diagnosed with Tuberculosis, what's the age on average of people who survived for 15 years more?\",\n",
    "  \"What is the average age of people who died 15 years after Tuberculosis in the diagnosis of TB?\",\n",
    "  'What is the average age of individuals who die of tuberculosis in tb 15 years after their first diagnosis of this disease?',\n",
    "  'For those who die of tuberculosis fifteen years after their first diagnosis, what is their average age?',\n",
    "  'How old is the average age of people who died after 15 years of tuberculosis diagnosis?',\n",
    "  'avg(age)-mortality',\n",
    "  'cut_year = 15, endpoint = tuberculosis in tb'],\n",
    " ['Which diseases may be diagnosed given tranexamic acid for individuals over 49 years old after 2010?',\n",
    "  'What diseases can be diagnosed after transeexamic acid for people over 49 years after 2010?',\n",
    "  'Which diseases can be diagnosed with after being diagnosed tranexamic acid for individuals over 49 years after 2010?',\n",
    "  'For those who are older than 49, which disease they can have if they already have tranexamic acid since 2010?',\n",
    "  'Since 2010, what diseases may be diagnosed by people over the age of 49 who are given transsine?',\n",
    "  'After 2010, some people over 49 may diagnose with amucine. Which disease they may have later?',\n",
    "  'outcome-cox_hrs',\n",
    "  'age > 49, prior = tranexamic acid, year > 2010'],\n",
    " ['What is the hazard ratio of osteoarthritis for those females between 92 and 99 who had cirrhosis between 2005 and 2020?',\n",
    "  'What is the danger ratio of osteoarthritis for these women between 92 and 99 with cirrhosis between 2005 and 2020?',\n",
    "  'During 2005-2020, what is the risk rate of osteoarthritis if an old lady between 92-99 with cirrhosis?',\n",
    "  'What is the risk rate of deformer arthrosis if a women between 92-99 with cirrhosis during 2005-2020?',\n",
    "  'If an old grandma who younger than 99 but older than 92 gets diagnosed with cirrhosis between 2005 and 2020. What is her risk of osteoarthritis?',\n",
    "  'What is the dangerous ratio of osteoarthritis considering females aged between 92-99 from 2005 to 2020 given cirrhosis?',\n",
    "  'hr-cox_hrs',\n",
    "  'age between 92 and 99, outcome = osteoarthritis, prior = cirrhosis, sex = female, year between 2005 and 2020'],\n",
    " ['What is the average age of people who died after dysphagia in swallowing problems diagnosis?',\n",
    "  'If one has dysphagia in swallowing problems. What is the average age of death?',\n",
    "  'What is the average age of death given diagnosis of swallowing problems?',\n",
    "  'What is the average age of death after being diagnosed with dysphagia in swallowing problems?',\n",
    "  'What is the mean age of death regarding to dysphagia in swallowing problems?',\n",
    "  'Considering dysphagia in swallowing problems, what is the age of death on average?',\n",
    "  'avg(age)-mortality',\n",
    "  'cut_year = 0, endpoint = dysphagia in swallowing problems'],\n",
    " [\"Given mirtazapine, what're the strongest associated comorbidities for men over 99 years old in 2006?\",\n",
    "  'Given the Mirtazapine, what are the strongest associated comorbidities for senior males above 99 in 2006?',\n",
    "  'Given Mirtazapine, what are the strongest associated comorbidities in 2006 for men over 99?',\n",
    "  'Considering Meltazapine, what is the strongest related labor work for men over 99 in 2006?',\n",
    "  'Given Mirtazapin, what was the strongest associated comormission among men over the age of 99 in 2006?',\n",
    "  'What is the strongest related diseases in 2006 if men over 99 years old were diagnosed with mirtazapine?',\n",
    "  'outcome-cox_hrs',\n",
    "  'age > 99, prior = mirtazapine, sex = male, year = 2006'],\n",
    " ['What is the mean age at the first event of common heart conditions among women?',\n",
    "  'What is the average age at the first event of common heart status among women?',\n",
    "  'What is the average age of women who get diagnosed with common heart conditions for their first time?',\n",
    "  'What is the average age when women get diagnosed with common heart conditions for the first time?',\n",
    "  'What is the average age of women with common heart disease for the 1st time?',\n",
    "  'How old on average are the women diagnosed with common heart disease for the 1st time?',\n",
    "  'avg(age)-long_registry',\n",
    "  'endpoint = common heart conditions, sex = female']]"
   ]
  },
  {
   "cell_type": "code",
   "execution_count": null,
   "id": "b9d67355-3f20-4b9a-8573-e90a6e25bfe1",
   "metadata": {},
   "outputs": [],
   "source": []
  }
 ],
 "metadata": {
  "kernelspec": {
   "display_name": "Python 3",
   "language": "python",
   "name": "python3"
  },
  "language_info": {
   "codemirror_mode": {
    "name": "ipython",
    "version": 3
   },
   "file_extension": ".py",
   "mimetype": "text/x-python",
   "name": "python",
   "nbconvert_exporter": "python",
   "pygments_lexer": "ipython3",
   "version": "3.7.9"
  }
 },
 "nbformat": 4,
 "nbformat_minor": 5
}
